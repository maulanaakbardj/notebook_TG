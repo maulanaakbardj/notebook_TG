{
  "nbformat": 4,
  "nbformat_minor": 0,
  "metadata": {
    "colab": {
      "name": "TG4 input schema load data BSI.ipynb",
      "provenance": [],
      "collapsed_sections": [],
      "authorship_tag": "ABX9TyNISSnA842JMydBMQPq0aba",
      "include_colab_link": true
    },
    "kernelspec": {
      "name": "python3",
      "display_name": "Python 3"
    },
    "language_info": {
      "name": "python"
    }
  },
  "cells": [
    {
      "cell_type": "markdown",
      "metadata": {
        "id": "view-in-github",
        "colab_type": "text"
      },
      "source": [
        "<a href=\"https://colab.research.google.com/github/maulanaakbardj/notebook_TG/blob/main/TG4_input_schema_load_data_BSI.ipynb\" target=\"_parent\"><img src=\"https://colab.research.google.com/assets/colab-badge.svg\" alt=\"Open In Colab\"/></a>"
      ]
    },
    {
      "cell_type": "code",
      "execution_count": 6,
      "metadata": {
        "colab": {
          "base_uri": "https://localhost:8080/"
        },
        "id": "9EtNlRCJ1HxR",
        "outputId": "a3cff0e8-b409-41a8-c500-457b8c3b4bbc"
      },
      "outputs": [
        {
          "output_type": "stream",
          "name": "stdout",
          "text": [
            "Requirement already satisfied: pyTigerGraph in /usr/local/lib/python3.7/dist-packages (0.0.9.9.0)\n",
            "Requirement already satisfied: pandas in /usr/local/lib/python3.7/dist-packages (from pyTigerGraph) (1.3.5)\n",
            "Requirement already satisfied: requests in /usr/local/lib/python3.7/dist-packages (from pyTigerGraph) (2.23.0)\n",
            "Requirement already satisfied: validators in /usr/local/lib/python3.7/dist-packages (from pyTigerGraph) (0.18.2)\n",
            "Requirement already satisfied: pyTigerDriver in /usr/local/lib/python3.7/dist-packages (from pyTigerGraph) (1.0.14)\n",
            "Requirement already satisfied: pytz>=2017.3 in /usr/local/lib/python3.7/dist-packages (from pandas->pyTigerGraph) (2018.9)\n",
            "Requirement already satisfied: python-dateutil>=2.7.3 in /usr/local/lib/python3.7/dist-packages (from pandas->pyTigerGraph) (2.8.2)\n",
            "Requirement already satisfied: numpy>=1.17.3 in /usr/local/lib/python3.7/dist-packages (from pandas->pyTigerGraph) (1.19.5)\n",
            "Requirement already satisfied: six>=1.5 in /usr/local/lib/python3.7/dist-packages (from python-dateutil>=2.7.3->pandas->pyTigerGraph) (1.15.0)\n",
            "Requirement already satisfied: chardet<4,>=3.0.2 in /usr/local/lib/python3.7/dist-packages (from requests->pyTigerGraph) (3.0.4)\n",
            "Requirement already satisfied: idna<3,>=2.5 in /usr/local/lib/python3.7/dist-packages (from requests->pyTigerGraph) (2.10)\n",
            "Requirement already satisfied: certifi>=2017.4.17 in /usr/local/lib/python3.7/dist-packages (from requests->pyTigerGraph) (2021.10.8)\n",
            "Requirement already satisfied: urllib3!=1.25.0,!=1.25.1,<1.26,>=1.21.1 in /usr/local/lib/python3.7/dist-packages (from requests->pyTigerGraph) (1.24.3)\n",
            "Requirement already satisfied: decorator>=3.4.0 in /usr/local/lib/python3.7/dist-packages (from validators->pyTigerGraph) (4.4.2)\n"
          ]
        }
      ],
      "source": [
        "#Setup\n",
        "!pip install pyTigerGraph"
      ]
    },
    {
      "cell_type": "code",
      "source": [
        "import pyTigerGraph as tg\n",
        "conn = tg.TigerGraphConnection(host=\"https://#your_subdomain#.i.tgcloud.io\", password=\"#your_pass\")"
      ],
      "metadata": {
        "id": "fids1YQ2-QIc"
      },
      "execution_count": 7,
      "outputs": []
    },
    {
      "cell_type": "code",
      "source": [
        "conn.graphname = \"bsi_pov\"\n",
        "secret = conn.createSecret()\n",
        "token = conn.getToken(secret, setToken=True)\n",
        "print(token)"
      ],
      "metadata": {
        "colab": {
          "base_uri": "https://localhost:8080/"
        },
        "id": "vxILlF-dfzfp",
        "outputId": "b4a1d607-639b-446a-b462-57317327703d"
      },
      "execution_count": 8,
      "outputs": [
        {
          "output_type": "stream",
          "name": "stdout",
          "text": [
            "('k52ujlc99jc6f25a5veu58kbcvto7g84', 1647311431, '2022-03-15 02:30:31')\n"
          ]
        }
      ]
    },
    {
      "cell_type": "code",
      "source": [
        "print(conn.gsql('''\n",
        "USE GRAPH bsi_pov\n",
        "\n",
        "DROP JOB script_load_mobile_apps_users\n",
        "DROP JOB script_load_chms_ticket\n",
        "DROP JOB script_load_trx_sv\n",
        "DROP JOB script_load_product\n",
        "DROP JOB script_load_customer\n",
        "DROP JOB script_load_deposits\n",
        "DROP JOB script_load_mb_tracking\n",
        "DROP JOB script_load_ATM_LOCATION\n",
        "DROP JOB script_load_BRANCH_LOCATION\n",
        "DROP JOB script_load_POS\n",
        "\n",
        "CREATE LOADING JOB script_load_mobile_apps_users FOR GRAPH bsi_pov {\n",
        "    DEFINE FILENAME MyDataSource;\n",
        "    LOAD MyDataSource TO VERTEX Mobile_App VALUES($3, $1, $4, $5, $6, $12, $13) USING SEPARATOR=\"|\", HEADER=\"true\", EOL=\"\\n\";\n",
        "    LOAD MyDataSource TO EDGE USED_BY VALUES($2, $3, $0, $7, $8, $9, $10) USING SEPARATOR=\"|\", HEADER=\"true\", EOL=\"\\n\";\n",
        "}\n",
        "\n",
        "CREATE LOADING JOB script_load_chms_ticket FOR GRAPH bsi_pov {\n",
        "    DEFINE FILENAME MyDataSource;\n",
        "    LOAD MyDataSource TO VERTEX Ticket VALUES($0, $1, $2, $3, $7, $8, $9, $10, $11, $12, $14, $15, $16, $17, $18, $19, $20, $21, $22, $29, $66) USING SEPARATOR=\"|\", HEADER=\"true\", EOL=\"\\n\";\n",
        "    LOAD MyDataSource TO EDGE HAS_TICKET VALUES($15, $0, $23, $24, $25, $26, $27, $28, $67) USING SEPARATOR=\"|\", HEADER=\"true\", EOL=\"\\n\";\n",
        "}\n",
        "\n",
        "CREATE LOADING JOB script_load_trx_sv FOR GRAPH bsi_pov {\n",
        "    DEFINE FILENAME MyDataSource;\n",
        "    LOAD MyDataSource TO VERTEX Transaction VALUES(gsql_concat($1,$3), $21, $6, $7) USING SEPARATOR=\",\", HEADER=\"true\", EOL=\"\\n\";\n",
        "    LOAD MyDataSource TO EDGE SENDS VALUES($18, gsql_concat($1,$3), $0, gsql_concat($4,\" \",$5)) USING SEPARATOR=\",\", HEADER=\"true\", EOL=\"\\n\";\n",
        "    LOAD MyDataSource TO EDGE RECEIVES VALUES(gsql_concat($1,$3), $25, $0, gsql_concat($4,\" \",$5)) USING SEPARATOR=\",\", HEADER=\"true\", EOL=\"\\n\";\n",
        "    LOAD MyDataSource TO EDGE USES VALUES(gsql_concat($1,$3), $14) USING SEPARATOR=\",\", HEADER=\"true\", EOL=\"\\n\";\n",
        "    LOAD MyDataSource TO EDGE HAS VALUES(gsql_concat($1,$3), gsql_concat($1,$3)) USING SEPARATOR=\",\", HEADER=\"true\", EOL=\"\\n\";\n",
        "}\n",
        "\n",
        "CREATE LOADING JOB script_load_product FOR GRAPH bsi_pov {\n",
        "    DEFINE FILENAME MyDataSource;\n",
        "    LOAD MyDataSource TO VERTEX Product_Type VALUES($1, $2, $3, $5, $4, $6, $7, $9, $10) USING SEPARATOR=\",\", HEADER=\"true\", EOL=\"\\n\";\n",
        "    LOAD MyDataSource TO EDGE HAS_TYPE VALUES($1, $1) USING SEPARATOR=\",\", HEADER=\"true\", EOL=\"\\n\";\n",
        "}\n",
        "\n",
        "CREATE LOADING JOB script_load_customer FOR GRAPH bsi_pov {\n",
        "    DEFINE FILENAME MyDataSource;\n",
        "    LOAD MyDataSource TO VERTEX Customer VALUES($1, $3, $4, $8, $11, $12, $13, $14, $19, $30, $31, $32, $35, $36, $38, $40, $45, $47, $48, $49, $50, $51, $52, $53) USING SEPARATOR=\",\", HEADER=\"true\", EOL=\"\\n\";\n",
        "    LOAD MyDataSource TO VERTEX Demographic VALUES($1, $22, $23, $24, $25, $26) USING SEPARATOR=\",\", HEADER=\"true\", EOL=\"\\n\";\n",
        "    LOAD MyDataSource TO EDGE HAS_DEMOGRAPHIC VALUES($1, $1, $0) USING SEPARATOR=\",\", HEADER=\"true\", EOL=\"\\n\";\n",
        "}\n",
        "\n",
        "CREATE LOADING JOB script_load_deposits FOR GRAPH bsi_pov {\n",
        "    DEFINE FILENAME MyDataSource;\n",
        "    LOAD MyDataSource TO VERTEX Account VALUES($2, $1, $4, $18, $17, $19, $20, $21, $15, $8, $6, $9, $5) USING SEPARATOR=\",\", HEADER=\"true\", EOL=\"\\n\";\n",
        "    LOAD MyDataSource TO VERTEX Product VALUES($6) USING SEPARATOR=\",\", HEADER=\"true\", EOL=\"\\n\";\n",
        "    LOAD MyDataSource TO EDGE HAS_ACCOUNT VALUES($4, $2, $0, $25, $26) USING SEPARATOR=\",\", HEADER=\"true\", EOL=\"\\n\";\n",
        "    LOAD MyDataSource TO EDGE HAS_PRODUCT VALUES($2, $6) USING SEPARATOR=\",\", HEADER=\"true\", EOL=\"\\n\";\n",
        "    LOAD MyDataSource TO EDGE ISSUED_AT VALUES($2, $3) USING SEPARATOR=\",\", HEADER=\"true\", EOL=\"\\n\";\n",
        "}\n",
        "\n",
        "CREATE LOADING JOB script_load_mb_tracking FOR GRAPH bsi_pov {\n",
        "    DEFINE FILENAME MyDataSource;\n",
        "    LOAD MyDataSource TO VERTEX Session VALUES($0, $1, $2, $3, $4, $5, $6, $7, $8, $13, $14, $12, $11, $9, $10, $0, $16, $17) USING SEPARATOR=\",\", HEADER=\"true\", EOL=\"\\n\";\n",
        "    LOAD MyDataSource TO EDGE TRACKED_BY VALUES($1, $0, $16, $17, $18, $15) USING SEPARATOR=\",\", HEADER=\"true\", EOL=\"\\n\";\n",
        "}\n",
        "\n",
        "CREATE LOADING JOB script_load_ATM_LOCATION FOR GRAPH bsi_pov {\n",
        "    DEFINE FILENAME MyDataSource;\n",
        "    LOAD MyDataSource TO VERTEX ATM VALUES($0, $3, $4) USING SEPARATOR=\";\", HEADER=\"true\", EOL=\"\\n\";\n",
        "}\n",
        "\n",
        "CREATE LOADING JOB script_load_BRANCH_LOCATION FOR GRAPH bsi_pov {\n",
        "    DEFINE FILENAME MyDataSource;\n",
        "    LOAD MyDataSource TO VERTEX Branch VALUES($0, $1, $3, $4) USING SEPARATOR=\";\", HEADER=\"true\", EOL=\"\\n\";\n",
        "}\n",
        "\n",
        "CREATE LOADING JOB script_load_POS FOR GRAPH bsi_pov {\n",
        "    DEFINE FILENAME MyDataSource;\n",
        "    LOAD MyDataSource TO VERTEX POS VALUES(gsql_concat($3,$2), $4) USING SEPARATOR=\"|\", HEADER=\"true\", EOL=\"\\n\";\n",
        "}\n",
        "\n",
        "''', options=[]))"
      ],
      "metadata": {
        "colab": {
          "base_uri": "https://localhost:8080/"
        },
        "id": "aYdHtpEnf6ip",
        "outputId": "758f66f9-ab92-42b4-88b2-f7a0e0593b10"
      },
      "execution_count": 26,
      "outputs": [
        {
          "output_type": "stream",
          "name": "stdout",
          "text": [
            "Using graph 'bsi_pov'\n",
            "Successfully dropped jobs on the graph 'bsi_pov': [script_load_mobile_apps_users].\n",
            "Successfully dropped jobs on the graph 'bsi_pov': [script_load_chms_ticket].\n",
            "Successfully dropped jobs on the graph 'bsi_pov': [script_load_trx_sv].\n",
            "Successfully dropped jobs on the graph 'bsi_pov': [script_load_product].\n",
            "Successfully dropped jobs on the graph 'bsi_pov': [script_load_customer].\n",
            "Successfully dropped jobs on the graph 'bsi_pov': [script_load_deposits].\n",
            "Successfully dropped jobs on the graph 'bsi_pov': [script_load_mb_tracking].\n",
            "Successfully dropped jobs on the graph 'bsi_pov': [script_load_ATM_LOCATION].\n",
            "Successfully dropped jobs on the graph 'bsi_pov': [script_load_BRANCH_LOCATION].\n",
            "Successfully dropped jobs on the graph 'bsi_pov': [script_load_POS].\n",
            "Successfully created loading jobs: [script_load_mobile_apps_users].\n",
            "Successfully created loading jobs: [script_load_chms_ticket].\n",
            "Successfully created loading jobs: [script_load_trx_sv].\n",
            "Successfully created loading jobs: [script_load_product].\n",
            "Successfully created loading jobs: [script_load_customer].\n",
            "Successfully created loading jobs: [script_load_deposits].\n",
            "Successfully created loading jobs: [script_load_mb_tracking].\n",
            "Successfully created loading jobs: [script_load_ATM_LOCATION].\n",
            "Successfully created loading jobs: [script_load_BRANCH_LOCATION].\n",
            "Successfully created loading jobs: [script_load_POS].\n"
          ]
        }
      ]
    },
    {
      "cell_type": "code",
      "source": [
        "print(conn.gsql('''\n",
        "USE GRAPH bsi_pov\n",
        "\n",
        "RUN LOADING JOB script_load_mobile_apps_users USING MyDataSource=\"/home/tigergraph/tigergraph/data/gui/loading_data/mobile_apps_user.csv\"\n",
        "\n",
        "''', options=[]))"
      ],
      "metadata": {
        "colab": {
          "base_uri": "https://localhost:8080/"
        },
        "id": "K1YnABnTqMAE",
        "outputId": "d423985f-aa85-4588-b666-c47beadb1394"
      },
      "execution_count": 13,
      "outputs": [
        {
          "output_type": "stream",
          "name": "stdout",
          "text": [
            "\u001b[2A\n",
            "\u001b[2K\n",
            "\u001b[2K\n",
            "\u001b[2A\n",
            "\u001b[2K\n",
            "\u001b[2K\n",
            "\u001b[4A\n",
            "\u001b[2K\n",
            "\u001b[2K\n",
            "\u001b[2K\n",
            "\u001b[2K\n",
            "\u001b[4A\n",
            "\u001b[2K\n",
            "\u001b[2K\n",
            "\u001b[2K\n",
            "\u001b[2K\n",
            "\u001b[4A\n",
            "\u001b[2K\n",
            "\u001b[2K\n",
            "\u001b[2K\n",
            "\u001b[2K\n",
            "\u001b[4A\n",
            "\u001b[2K\n",
            "\u001b[2K\n",
            "\u001b[2K\n",
            "\u001b[2K\n",
            "\u001b[4A\n",
            "\u001b[2K\n",
            "\u001b[2K\n",
            "\u001b[2K\n",
            "\u001b[2K\n",
            "\u001b[4A\n",
            "\u001b[2K\n",
            "\u001b[2K\n",
            "\u001b[2K\n",
            "\u001b[2K\n",
            "\u001b[4A\n",
            "\u001b[2K\n",
            "\u001b[2K\n",
            "\u001b[2K\n",
            "\u001b[2K\n",
            "\u001b[4A\n",
            "\u001b[2K\n",
            "\u001b[2K\n",
            "\u001b[2K\n",
            "\u001b[2K\n",
            "\u001b[4A\n",
            "\u001b[2K\n",
            "\u001b[2K\n",
            "\u001b[2K\n",
            "\u001b[2K\n",
            "\u001b[4A\n",
            "\u001b[2K\n",
            "\u001b[2K\n",
            "\u001b[2K\n",
            "\u001b[2K\n",
            "\u001b[4A\n",
            "\u001b[2K\n",
            "\u001b[2K\n",
            "\u001b[2K\n",
            "\u001b[2K\n",
            "\u001b[7A\n",
            "\u001b[2K\n",
            "\u001b[2K\n",
            "\u001b[2K\n",
            "\u001b[2K\n",
            "\u001b[2K\n",
            "\u001b[2K\n",
            "\u001b[2K\n",
            "Using graph 'bsi_pov'\n",
            "[Tip: Use \"CTRL + C\" to stop displaying the loading status update, then use \"SHOW LOADING STATUS jobid\" to track the loading progress again]\n",
            "[Tip: Manage loading jobs with \"ABORT/RESUME LOADING JOB jobid\"]\n",
            "Starting the following job, i.e.\n",
            "JobName: script_load_mobile_apps_users, jobid: bsi_pov.script_load_mobile_apps_users.file.m1.1644686467672\n",
            "Loading log: '/home/tigergraph/tigergraph/log/restpp/restpp_loader_logs/bsi_pov/bsi_pov.script_load_mobile_apps_users.file.m1.1644686467672.log'\n",
            "\n",
            "Job \"bsi_pov.script_load_mobile_apps_users.file.m1.1644686467672\" loading status\n",
            "[RUNNING] m1 ( Finished: 0 / Total: 1 )\n",
            "Job \"bsi_pov.script_load_mobile_apps_users.file.m1.1644686467672\" loading status\n",
            "[RUNNING] m1 ( Finished: 0 / Total: 1 )\n",
            "Job \"bsi_pov.script_load_mobile_apps_users.file.m1.1644686467672\" loading status\n",
            "[RUNNING] m1 ( Finished: 0 / Total: 1 )\n",
            "[LOADING] /home/tigergraph/tigergraph/data/gui/loading_data/mobile_apps_user.csv\n",
            "Job \"bsi_pov.script_load_mobile_apps_users.file.m1.1644686467672\" loading status\n",
            "[RUNNING] m1 ( Finished: 0 / Total: 1 )\n",
            "[LOADING] /home/tigergraph/tigergraph/data/gui/loading_data/mobile_apps_user.csv\n",
            "Job \"bsi_pov.script_load_mobile_apps_users.file.m1.1644686467672\" loading status\n",
            "[RUNNING] m1 ( Finished: 0 / Total: 1 )\n",
            "[LOADING] /home/tigergraph/tigergraph/data/gui/loading_data/mobile_apps_user.csv\n",
            "Job \"bsi_pov.script_load_mobile_apps_users.file.m1.1644686467672\" loading status\n",
            "[RUNNING] m1 ( Finished: 0 / Total: 1 )\n",
            "[LOADING] /home/tigergraph/tigergraph/data/gui/loading_data/mobile_apps_user.csv\n",
            "Job \"bsi_pov.script_load_mobile_apps_users.file.m1.1644686467672\" loading status\n",
            "[RUNNING] m1 ( Finished: 0 / Total: 1 )\n",
            "[LOADING] /home/tigergraph/tigergraph/data/gui/loading_data/mobile_apps_user.csv\n",
            "Job \"bsi_pov.script_load_mobile_apps_users.file.m1.1644686467672\" loading status\n",
            "[RUNNING] m1 ( Finished: 0 / Total: 1 )\n",
            "[LOADING] /home/tigergraph/tigergraph/data/gui/loading_data/mobile_apps_user.csv\n",
            "Job \"bsi_pov.script_load_mobile_apps_users.file.m1.1644686467672\" loading status\n",
            "[RUNNING] m1 ( Finished: 0 / Total: 1 )\n",
            "[LOADING] /home/tigergraph/tigergraph/data/gui/loading_data/mobile_apps_user.csv\n",
            "Job \"bsi_pov.script_load_mobile_apps_users.file.m1.1644686467672\" loading status\n",
            "[RUNNING] m1 ( Finished: 0 / Total: 1 )\n",
            "[LOADING] /home/tigergraph/tigergraph/data/gui/loading_data/mobile_apps_user.csv\n",
            "Job \"bsi_pov.script_load_mobile_apps_users.file.m1.1644686467672\" loading status\n",
            "[RUNNING] m1 ( Finished: 0 / Total: 1 )\n",
            "[LOADING] /home/tigergraph/tigergraph/data/gui/loading_data/mobile_apps_user.csv\n",
            "Job \"bsi_pov.script_load_mobile_apps_users.file.m1.1644686467672\" loading status\n",
            "[RUNNING] m1 ( Finished: 0 / Total: 1 )\n",
            "[LOADING] /home/tigergraph/tigergraph/data/gui/loading_data/mobile_apps_user.csv\n",
            "Job \"bsi_pov.script_load_mobile_apps_users.file.m1.1644686467672\" loading status\n",
            "[RUNNING] m1 ( Finished: 0 / Total: 1 )\n",
            "[LOADING] /home/tigergraph/tigergraph/data/gui/loading_data/mobile_apps_user.csv\n",
            "Job \"bsi_pov.script_load_mobile_apps_users.file.m1.1644686467672\" loading status\n",
            "[RUNNING] m1 ( Finished: 1 / Total: 1 )\n",
            "[LOADED]\n",
            "+------------------------------------------------------------------------------------------------------------------+\n",
            "|                                                              FILENAME |   LOADED LINES |   AVG SPEED |   DURATION|\n",
            "|/home/tigergraph/tigergraph/data/gui/loading_data/mobile_apps_user.csv |        3896621 |     42 kl/s |    91.65 s|\n",
            "+------------------------------------------------------------------------------------------------------------------+\n",
            "Job \"bsi_pov.script_load_mobile_apps_users.file.m1.1644686467672\" loading status\n",
            "[FINISHED] m1 ( Finished: 1 / Total: 1 )\n",
            "[LOADED]\n",
            "+------------------------------------------------------------------------------------------------------------------+\n",
            "|                                                              FILENAME |   LOADED LINES |   AVG SPEED |   DURATION|\n",
            "|/home/tigergraph/tigergraph/data/gui/loading_data/mobile_apps_user.csv |        3896621 |     42 kl/s |    91.65 s|\n",
            "+------------------------------------------------------------------------------------------------------------------+\n"
          ]
        }
      ]
    },
    {
      "cell_type": "code",
      "source": [
        "print(conn.gsql('''\n",
        "USE GRAPH bsi_pov\n",
        "RUN LOADING JOB script_load_chms_ticket USING MyDataSource=\"/home/tigergraph/tigergraph/data/gui/loading_data/chms_tiket.csv\"\n",
        "\n",
        "\n",
        "''', options=[]))"
      ],
      "metadata": {
        "colab": {
          "base_uri": "https://localhost:8080/"
        },
        "id": "yFlSoPCd4ztc",
        "outputId": "48eee6a4-4878-4976-9ecb-8ae2d1ebb672"
      },
      "execution_count": 5,
      "outputs": [
        {
          "output_type": "stream",
          "name": "stdout",
          "text": [
            "\u001b[2A\n",
            "\u001b[2K\n",
            "\u001b[2K\n",
            "Using graph 'bsi_pov'\n",
            "[Tip: Use \"CTRL + C\" to stop displaying the loading status update, then use \"SHOW LOADING STATUS jobid\" to track the loading progress again]\n",
            "[Tip: Manage loading jobs with \"ABORT/RESUME LOADING JOB jobid\"]\n",
            "Starting the following job, i.e.\n",
            "JobName: script_load_chms_ticket, jobid: bsi_pov.script_load_chms_ticket.file.m1.1644691285575\n",
            "Loading log: '/home/tigergraph/tigergraph/log/restpp/restpp_loader_logs/bsi_pov/bsi_pov.script_load_chms_ticket.file.m1.1644691285575.log'\n",
            "\n",
            "Job \"bsi_pov.script_load_chms_ticket.file.m1.1644691285575\" loading status\n",
            "[RUNNING] m1 ( Finished: 0 / Total: 1 )\n",
            "Job \"bsi_pov.script_load_chms_ticket.file.m1.1644691285575\" loading status\n",
            "[FINISHED] m1 ( Finished: 1 / Total: 1 )\n",
            "[LOADED]\n",
            "+------------------------------------------------------------------------------------------------------------+\n",
            "|                                                        FILENAME |   LOADED LINES |   AVG SPEED |   DURATION|\n",
            "|/home/tigergraph/tigergraph/data/gui/loading_data/chms_tiket.csv |          10476 |      9 kl/s |     1.05 s|\n",
            "+------------------------------------------------------------------------------------------------------------+\n"
          ]
        }
      ]
    },
    {
      "cell_type": "code",
      "source": [
        "print(conn.gsql('''\n",
        "USE GRAPH bsi_pov\n",
        "RUN LOADING JOB script_load_trx_sv USING MyDataSource=\"/home/tigergraph/tigergraph/data/gui/loading_data/trx_sv_1_17Dec2021_cut.csv\"\n",
        "\n",
        "\n",
        "''', options=[]))"
      ],
      "metadata": {
        "colab": {
          "base_uri": "https://localhost:8080/"
        },
        "id": "a2IyuYLi5uri",
        "outputId": "96b79ce4-44d5-4f77-d85f-b92ab9a24495"
      },
      "execution_count": 6,
      "outputs": [
        {
          "output_type": "stream",
          "name": "stdout",
          "text": [
            "\u001b[2A\n",
            "\u001b[2K\n",
            "\u001b[2K\n",
            "\u001b[4A\n",
            "\u001b[2K\n",
            "\u001b[2K\n",
            "\u001b[2K\n",
            "\u001b[2K\n",
            "\u001b[4A\n",
            "\u001b[2K\n",
            "\u001b[2K\n",
            "\u001b[2K\n",
            "\u001b[2K\n",
            "Using graph 'bsi_pov'\n",
            "[Tip: Use \"CTRL + C\" to stop displaying the loading status update, then use \"SHOW LOADING STATUS jobid\" to track the loading progress again]\n",
            "[Tip: Manage loading jobs with \"ABORT/RESUME LOADING JOB jobid\"]\n",
            "Starting the following job, i.e.\n",
            "JobName: script_load_trx_sv, jobid: bsi_pov.script_load_trx_sv.file.m1.1644691304947\n",
            "Loading log: '/home/tigergraph/tigergraph/log/restpp/restpp_loader_logs/bsi_pov/bsi_pov.script_load_trx_sv.file.m1.1644691304947.log'\n",
            "\n",
            "Job \"bsi_pov.script_load_trx_sv.file.m1.1644691304947\" loading status\n",
            "[RUNNING] m1 ( Finished: 0 / Total: 1 )\n",
            "Job \"bsi_pov.script_load_trx_sv.file.m1.1644691304947\" loading status\n",
            "[RUNNING] m1 ( Finished: 0 / Total: 1 )\n",
            "[LOADING] /home/tigergraph/tigergraph/data/gui/loading_data/trx_sv_1_17Dec2021_cut.csv\n",
            "Job \"bsi_pov.script_load_trx_sv.file.m1.1644691304947\" loading status\n",
            "[RUNNING] m1 ( Finished: 0 / Total: 1 )\n",
            "[LOADING] /home/tigergraph/tigergraph/data/gui/loading_data/trx_sv_1_17Dec2021_cut.csv\n",
            "Job \"bsi_pov.script_load_trx_sv.file.m1.1644691304947\" loading status\n",
            "[FINISHED] m1 ( Finished: 1 / Total: 1 )\n",
            "[LOADED]\n",
            "+------------------------------------------------------------------------------------------------------------------------+\n",
            "|                                                                    FILENAME |   LOADED LINES |   AVG SPEED |   DURATION|\n",
            "|/home/tigergraph/tigergraph/data/gui/loading_data/trx_sv_1_17Dec2021_cut.csv |         500001 |     40 kl/s |    12.32 s|\n",
            "+------------------------------------------------------------------------------------------------------------------------+\n"
          ]
        }
      ]
    },
    {
      "cell_type": "code",
      "source": [
        "print(conn.gsql('''\n",
        "USE GRAPH bsi_pov\n",
        "RUN LOADING JOB script_load_product USING MyDataSource=\"/home/tigergraph/tigergraph/data/gui/loading_data/product.csv\"\n",
        "\n",
        "\n",
        "''', options=[]))"
      ],
      "metadata": {
        "colab": {
          "base_uri": "https://localhost:8080/"
        },
        "id": "xrCxnV4Z9FpJ",
        "outputId": "70a1c117-cf1a-44ee-84cf-3b45300f26ea"
      },
      "execution_count": 7,
      "outputs": [
        {
          "output_type": "stream",
          "name": "stdout",
          "text": [
            "\u001b[2A\n",
            "\u001b[2K\n",
            "\u001b[2K\n",
            "Using graph 'bsi_pov'\n",
            "[Tip: Use \"CTRL + C\" to stop displaying the loading status update, then use \"SHOW LOADING STATUS jobid\" to track the loading progress again]\n",
            "[Tip: Manage loading jobs with \"ABORT/RESUME LOADING JOB jobid\"]\n",
            "Starting the following job, i.e.\n",
            "JobName: script_load_product, jobid: bsi_pov.script_load_product.file.m1.1644691329960\n",
            "Loading log: '/home/tigergraph/tigergraph/log/restpp/restpp_loader_logs/bsi_pov/bsi_pov.script_load_product.file.m1.1644691329960.log'\n",
            "\n",
            "Job \"bsi_pov.script_load_product.file.m1.1644691329960\" loading status\n",
            "[RUNNING] m1 ( Finished: 0 / Total: 1 )\n",
            "Job \"bsi_pov.script_load_product.file.m1.1644691329960\" loading status\n",
            "[FINISHED] m1 ( Finished: 1 / Total: 1 )\n",
            "[LOADED]\n",
            "+---------------------------------------------------------------------------------------------------------+\n",
            "|                                                     FILENAME |   LOADED LINES |   AVG SPEED |   DURATION|\n",
            "|/home/tigergraph/tigergraph/data/gui/loading_data/product.csv |            690 |      3 kl/s |     0.20 s|\n",
            "+---------------------------------------------------------------------------------------------------------+\n"
          ]
        }
      ]
    },
    {
      "cell_type": "code",
      "source": [
        "print(conn.gsql('''\n",
        "USE GRAPH bsi_pov\n",
        "\n",
        "RUN LOADING JOB script_load_customer USING MyDataSource=\"/home/tigergraph/tigergraph/data/gui/loading_data/customer_latest_cut.csv\"\n",
        "''', options=[]))"
      ],
      "metadata": {
        "colab": {
          "base_uri": "https://localhost:8080/"
        },
        "id": "ViSZRRtW9Fn4",
        "outputId": "c80128f2-966c-4524-c729-8c9e03c4d8e3"
      },
      "execution_count": 8,
      "outputs": [
        {
          "output_type": "stream",
          "name": "stdout",
          "text": [
            "\u001b[2A\n",
            "\u001b[2K\n",
            "\u001b[2K\n",
            "\u001b[4A\n",
            "\u001b[2K\n",
            "\u001b[2K\n",
            "\u001b[2K\n",
            "\u001b[2K\n",
            "\u001b[7A\n",
            "\u001b[2K\n",
            "\u001b[2K\n",
            "\u001b[2K\n",
            "\u001b[2K\n",
            "\u001b[2K\n",
            "\u001b[2K\n",
            "\u001b[2K\n",
            "Using graph 'bsi_pov'\n",
            "[Tip: Use \"CTRL + C\" to stop displaying the loading status update, then use \"SHOW LOADING STATUS jobid\" to track the loading progress again]\n",
            "[Tip: Manage loading jobs with \"ABORT/RESUME LOADING JOB jobid\"]\n",
            "Starting the following job, i.e.\n",
            "JobName: script_load_customer, jobid: bsi_pov.script_load_customer.file.m1.1644691341456\n",
            "Loading log: '/home/tigergraph/tigergraph/log/restpp/restpp_loader_logs/bsi_pov/bsi_pov.script_load_customer.file.m1.1644691341456.log'\n",
            "\n",
            "Job \"bsi_pov.script_load_customer.file.m1.1644691341456\" loading status\n",
            "[RUNNING] m1 ( Finished: 0 / Total: 1 )\n",
            "Job \"bsi_pov.script_load_customer.file.m1.1644691341456\" loading status\n",
            "[RUNNING] m1 ( Finished: 0 / Total: 1 )\n",
            "[LOADING] /home/tigergraph/tigergraph/data/gui/loading_data/customer_latest_cut.csv\n",
            "Job \"bsi_pov.script_load_customer.file.m1.1644691341456\" loading status\n",
            "[RUNNING] m1 ( Finished: 1 / Total: 1 )\n",
            "[LOADED]\n",
            "+---------------------------------------------------------------------------------------------------------------------+\n",
            "|                                                                 FILENAME |   LOADED LINES |   AVG SPEED |   DURATION|\n",
            "|/home/tigergraph/tigergraph/data/gui/loading_data/customer_latest_cut.csv |         500001 |     63 kl/s |     7.88 s|\n",
            "+---------------------------------------------------------------------------------------------------------------------+\n",
            "Job \"bsi_pov.script_load_customer.file.m1.1644691341456\" loading status\n",
            "[FINISHED] m1 ( Finished: 1 / Total: 1 )\n",
            "[LOADED]\n",
            "+---------------------------------------------------------------------------------------------------------------------+\n",
            "|                                                                 FILENAME |   LOADED LINES |   AVG SPEED |   DURATION|\n",
            "|/home/tigergraph/tigergraph/data/gui/loading_data/customer_latest_cut.csv |         500001 |     63 kl/s |     7.88 s|\n",
            "+---------------------------------------------------------------------------------------------------------------------+\n"
          ]
        }
      ]
    },
    {
      "cell_type": "code",
      "source": [
        "print(conn.gsql('''\n",
        "USE GRAPH bsi_pov\n",
        "RUN LOADING JOB script_load_deposits USING MyDataSource=\"/home/tigergraph/tigergraph/data/gui/loading_data/deposits_cut.csv\"\n",
        "''', options=[]))"
      ],
      "metadata": {
        "colab": {
          "base_uri": "https://localhost:8080/"
        },
        "id": "O8jz87Wp9a-B",
        "outputId": "739f6544-ba75-4a40-9718-11452ec4b376"
      },
      "execution_count": 9,
      "outputs": [
        {
          "output_type": "stream",
          "name": "stdout",
          "text": [
            "\u001b[2A\n",
            "\u001b[2K\n",
            "\u001b[2K\n",
            "\u001b[4A\n",
            "\u001b[2K\n",
            "\u001b[2K\n",
            "\u001b[2K\n",
            "\u001b[2K\n",
            "\u001b[4A\n",
            "\u001b[2K\n",
            "\u001b[2K\n",
            "\u001b[2K\n",
            "\u001b[2K\n",
            "Using graph 'bsi_pov'\n",
            "[Tip: Use \"CTRL + C\" to stop displaying the loading status update, then use \"SHOW LOADING STATUS jobid\" to track the loading progress again]\n",
            "[Tip: Manage loading jobs with \"ABORT/RESUME LOADING JOB jobid\"]\n",
            "Starting the following job, i.e.\n",
            "JobName: script_load_deposits, jobid: bsi_pov.script_load_deposits.file.m1.1644691365239\n",
            "Loading log: '/home/tigergraph/tigergraph/log/restpp/restpp_loader_logs/bsi_pov/bsi_pov.script_load_deposits.file.m1.1644691365239.log'\n",
            "\n",
            "Job \"bsi_pov.script_load_deposits.file.m1.1644691365239\" loading status\n",
            "[RUNNING] m1 ( Finished: 0 / Total: 1 )\n",
            "Job \"bsi_pov.script_load_deposits.file.m1.1644691365239\" loading status\n",
            "[RUNNING] m1 ( Finished: 0 / Total: 1 )\n",
            "[LOADING] /home/tigergraph/tigergraph/data/gui/loading_data/deposits_cut.csv\n",
            "Job \"bsi_pov.script_load_deposits.file.m1.1644691365239\" loading status\n",
            "[RUNNING] m1 ( Finished: 0 / Total: 1 )\n",
            "[LOADING] /home/tigergraph/tigergraph/data/gui/loading_data/deposits_cut.csv\n",
            "Job \"bsi_pov.script_load_deposits.file.m1.1644691365239\" loading status\n",
            "[FINISHED] m1 ( Finished: 1 / Total: 1 )\n",
            "[LOADED]\n",
            "+--------------------------------------------------------------------------------------------------------------+\n",
            "|                                                          FILENAME |   LOADED LINES |   AVG SPEED |   DURATION|\n",
            "|/home/tigergraph/tigergraph/data/gui/loading_data/deposits_cut.csv |         500001 |     49 kl/s |    10.07 s|\n",
            "+--------------------------------------------------------------------------------------------------------------+\n"
          ]
        }
      ]
    },
    {
      "cell_type": "code",
      "source": [
        "print(conn.gsql('''\n",
        "USE GRAPH bsi_pov\n",
        "RUN LOADING JOB script_load_mb_tracking USING MyDataSource=\"/home/tigergraph/tigergraph/data/gui/loading_data/mb_tracking_16_17Dec2021_cut.csv\"\n",
        "''', options=[]))"
      ],
      "metadata": {
        "colab": {
          "base_uri": "https://localhost:8080/"
        },
        "id": "KNLpet_O9hND",
        "outputId": "96de0797-81c9-489a-b4f9-ae1fb77bb394"
      },
      "execution_count": 10,
      "outputs": [
        {
          "output_type": "stream",
          "name": "stdout",
          "text": [
            "\u001b[2A\n",
            "\u001b[2K\n",
            "\u001b[2K\n",
            "\u001b[4A\n",
            "\u001b[2K\n",
            "\u001b[2K\n",
            "\u001b[2K\n",
            "\u001b[2K\n",
            "\u001b[7A\n",
            "\u001b[2K\n",
            "\u001b[2K\n",
            "\u001b[2K\n",
            "\u001b[2K\n",
            "\u001b[2K\n",
            "\u001b[2K\n",
            "\u001b[2K\n",
            "Using graph 'bsi_pov'\n",
            "[Tip: Use \"CTRL + C\" to stop displaying the loading status update, then use \"SHOW LOADING STATUS jobid\" to track the loading progress again]\n",
            "[Tip: Manage loading jobs with \"ABORT/RESUME LOADING JOB jobid\"]\n",
            "Starting the following job, i.e.\n",
            "JobName: script_load_mb_tracking, jobid: bsi_pov.script_load_mb_tracking.file.m1.1644691394750\n",
            "Loading log: '/home/tigergraph/tigergraph/log/restpp/restpp_loader_logs/bsi_pov/bsi_pov.script_load_mb_tracking.file.m1.1644691394750.log'\n",
            "\n",
            "Job \"bsi_pov.script_load_mb_tracking.file.m1.1644691394750\" loading status\n",
            "[WAITING] m1 ( Finished: 0 / Total: 0 )\n",
            "Job \"bsi_pov.script_load_mb_tracking.file.m1.1644691394750\" loading status\n",
            "[RUNNING] m1 ( Finished: 0 / Total: 1 )\n",
            "[LOADING] /home/tigergraph/tigergraph/data/gui/loading_data/mb_tracking_16_17Dec2021_cut.csv\n",
            "Job \"bsi_pov.script_load_mb_tracking.file.m1.1644691394750\" loading status\n",
            "[RUNNING] m1 ( Finished: 1 / Total: 1 )\n",
            "[LOADED]\n",
            "+------------------------------------------------------------------------------------------------------------------------------+\n",
            "|                                                                          FILENAME |   LOADED LINES |   AVG SPEED |   DURATION|\n",
            "|/home/tigergraph/tigergraph/data/gui/loading_data/mb_tracking_16_17Dec2021_cut.csv |         500001 |     69 kl/s |     7.23 s|\n",
            "+------------------------------------------------------------------------------------------------------------------------------+\n",
            "Job \"bsi_pov.script_load_mb_tracking.file.m1.1644691394750\" loading status\n",
            "[FINISHED] m1 ( Finished: 1 / Total: 1 )\n",
            "[LOADED]\n",
            "+------------------------------------------------------------------------------------------------------------------------------+\n",
            "|                                                                          FILENAME |   LOADED LINES |   AVG SPEED |   DURATION|\n",
            "|/home/tigergraph/tigergraph/data/gui/loading_data/mb_tracking_16_17Dec2021_cut.csv |         500001 |     69 kl/s |     7.23 s|\n",
            "+------------------------------------------------------------------------------------------------------------------------------+\n"
          ]
        }
      ]
    },
    {
      "cell_type": "code",
      "source": [
        "print(conn.gsql('''\n",
        "USE GRAPH bsi_pov\n",
        "RUN LOADING JOB script_load_ATM_LOCATION USING MyDataSource=\"/home/tigergraph/tigergraph/data/gui/loading_data/ATM_LOCATION.csv\"\n",
        "''', options=[]))"
      ],
      "metadata": {
        "colab": {
          "base_uri": "https://localhost:8080/"
        },
        "id": "NSynUSmI9qvX",
        "outputId": "20e428e5-c182-42f4-e599-01794c461f48"
      },
      "execution_count": 11,
      "outputs": [
        {
          "output_type": "stream",
          "name": "stdout",
          "text": [
            "\u001b[2A\n",
            "\u001b[2K\n",
            "\u001b[2K\n",
            "Using graph 'bsi_pov'\n",
            "[Tip: Use \"CTRL + C\" to stop displaying the loading status update, then use \"SHOW LOADING STATUS jobid\" to track the loading progress again]\n",
            "[Tip: Manage loading jobs with \"ABORT/RESUME LOADING JOB jobid\"]\n",
            "Starting the following job, i.e.\n",
            "JobName: script_load_ATM_LOCATION, jobid: bsi_pov.script_load_ATM_LOCATION.file.m1.1644691429947\n",
            "Loading log: '/home/tigergraph/tigergraph/log/restpp/restpp_loader_logs/bsi_pov/bsi_pov.script_load_ATM_LOCATION.file.m1.1644691429947.log'\n",
            "\n",
            "Job \"bsi_pov.script_load_ATM_LOCATION.file.m1.1644691429947\" loading status\n",
            "[RUNNING] m1 ( Finished: 0 / Total: 1 )\n",
            "Job \"bsi_pov.script_load_ATM_LOCATION.file.m1.1644691429947\" loading status\n",
            "[FINISHED] m1 ( Finished: 1 / Total: 1 )\n",
            "[LOADED]\n",
            "+--------------------------------------------------------------------------------------------------------------+\n",
            "|                                                          FILENAME |   LOADED LINES |   AVG SPEED |   DURATION|\n",
            "|/home/tigergraph/tigergraph/data/gui/loading_data/ATM_LOCATION.csv |          13445 |    116 kl/s |     0.12 s|\n",
            "+--------------------------------------------------------------------------------------------------------------+\n"
          ]
        }
      ]
    },
    {
      "cell_type": "code",
      "source": [
        "print(conn.gsql('''\n",
        "USE GRAPH bsi_pov\n",
        "DROP JOB script_load_POS\n",
        "RUN LOADING JOB script_load_BRANCH_LOCATION USING MyDataSource=\"/home/tigergraph/tigergraph/data/gui/loading_data/BRANCH_LOCATION.csv\"\n",
        "''', options=[]))"
      ],
      "metadata": {
        "colab": {
          "base_uri": "https://localhost:8080/"
        },
        "id": "4eJlXtrx9zcu",
        "outputId": "72eee25f-2508-40ad-ccdc-8177e6885b4d"
      },
      "execution_count": 12,
      "outputs": [
        {
          "output_type": "stream",
          "name": "stdout",
          "text": [
            "\u001b[2A\n",
            "\u001b[2K\n",
            "\u001b[2K\n",
            "Using graph 'bsi_pov'\n",
            "[Tip: Use \"CTRL + C\" to stop displaying the loading status update, then use \"SHOW LOADING STATUS jobid\" to track the loading progress again]\n",
            "[Tip: Manage loading jobs with \"ABORT/RESUME LOADING JOB jobid\"]\n",
            "Starting the following job, i.e.\n",
            "JobName: script_load_BRANCH_LOCATION, jobid: bsi_pov.script_load_BRANCH_LOCATION.file.m1.1644691444791\n",
            "Loading log: '/home/tigergraph/tigergraph/log/restpp/restpp_loader_logs/bsi_pov/bsi_pov.script_load_BRANCH_LOCATION.file.m1.1644691444791.log'\n",
            "\n",
            "Job \"bsi_pov.script_load_BRANCH_LOCATION.file.m1.1644691444791\" loading status\n",
            "[RUNNING] m1 ( Finished: 0 / Total: 1 )\n",
            "Job \"bsi_pov.script_load_BRANCH_LOCATION.file.m1.1644691444791\" loading status\n",
            "[FINISHED] m1 ( Finished: 1 / Total: 1 )\n",
            "[LOADED]\n",
            "+-----------------------------------------------------------------------------------------------------------------+\n",
            "|                                                             FILENAME |   LOADED LINES |   AVG SPEED |   DURATION|\n",
            "|/home/tigergraph/tigergraph/data/gui/loading_data/BRANCH_LOCATION.csv |           1458 |     14 kl/s |     0.10 s|\n",
            "+-----------------------------------------------------------------------------------------------------------------+\n"
          ]
        }
      ]
    },
    {
      "cell_type": "code",
      "source": [
        "print(conn.gsql('''\n",
        "USE GRAPH bsi_pov\n",
        "DROP JOB script_load_POS\n",
        "CREATE LOADING JOB script_load_POS FOR GRAPH bsi_pov {\n",
        "    DEFINE FILENAME MyDataSource;\n",
        "    LOAD MyDataSource TO VERTEX POS VALUES(gsql_concat($3,$2), $4) USING SEPARATOR=\"|\", HEADER=\"true\", EOL=\"\\n\";\n",
        "}\n",
        "RUN LOADING JOB script_load_POS USING MyDataSource=\"/home/tigergraph/tigergraph/data/gui/loading_data/svista_curr_trans_16_17Dec2021_cut v1.csv\"\n",
        "''', options=[]))"
      ],
      "metadata": {
        "colab": {
          "base_uri": "https://localhost:8080/"
        },
        "id": "pFHSxGBo9zae",
        "outputId": "5fa96719-a775-427a-92a1-2691cd8edccf"
      },
      "execution_count": 9,
      "outputs": [
        {
          "output_type": "stream",
          "name": "stdout",
          "text": [
            "\u001b[2A\n",
            "\u001b[2K\n",
            "\u001b[2K\n",
            "\u001b[7A\n",
            "\u001b[2K\n",
            "\u001b[2K\n",
            "\u001b[2K\n",
            "\u001b[2K\n",
            "\u001b[2K\n",
            "\u001b[2K\n",
            "\u001b[2K\n",
            "Using graph 'bsi_pov'\n",
            "Successfully dropped jobs on the graph 'bsi_pov': [script_load_POS].\n",
            "Successfully created loading jobs: [script_load_POS].\n",
            "[Tip: Use \"CTRL + C\" to stop displaying the loading status update, then use \"SHOW LOADING STATUS jobid\" to track the loading progress again]\n",
            "[Tip: Manage loading jobs with \"ABORT/RESUME LOADING JOB jobid\"]\n",
            "Starting the following job, i.e.\n",
            "JobName: script_load_POS, jobid: bsi_pov.script_load_POS.file.m1.1644719456408\n",
            "Loading log: '/home/tigergraph/tigergraph/log/restpp/restpp_loader_logs/bsi_pov/bsi_pov.script_load_POS.file.m1.1644719456408.log'\n",
            "\n",
            "Job \"bsi_pov.script_load_POS.file.m1.1644719456408\" loading status\n",
            "[RUNNING] m1 ( Finished: 0 / Total: 1 )\n",
            "Job \"bsi_pov.script_load_POS.file.m1.1644719456408\" loading status\n",
            "[RUNNING] m1 ( Finished: 1 / Total: 1 )\n",
            "[LOADED]\n",
            "+---------------------------------------------------------------------------------------------------------------------------------------+\n",
            "|                                                                                   FILENAME |   LOADED LINES |   AVG SPEED |   DURATION|\n",
            "|/home/tigergraph/tigergraph/data/gui/loading_data/svista_curr_trans_16_17Dec2021_cut v1.csv |         500001 |    177 kl/s |     2.82 s|\n",
            "+---------------------------------------------------------------------------------------------------------------------------------------+\n",
            "Job \"bsi_pov.script_load_POS.file.m1.1644719456408\" loading status\n",
            "[FINISHED] m1 ( Finished: 1 / Total: 1 )\n",
            "[LOADED]\n",
            "+---------------------------------------------------------------------------------------------------------------------------------------+\n",
            "|                                                                                   FILENAME |   LOADED LINES |   AVG SPEED |   DURATION|\n",
            "|/home/tigergraph/tigergraph/data/gui/loading_data/svista_curr_trans_16_17Dec2021_cut v1.csv |         500001 |    177 kl/s |     2.82 s|\n",
            "+---------------------------------------------------------------------------------------------------------------------------------------+\n"
          ]
        }
      ]
    },
    {
      "cell_type": "code",
      "source": [
        "\n",
        "\n",
        "\n",
        "\n",
        "\n"
      ],
      "metadata": {
        "id": "67urrp3l5qti"
      },
      "execution_count": null,
      "outputs": []
    },
    {
      "cell_type": "code",
      "source": [
        "results = conn.getVertexTypes()\n",
        "print(f\"veticies: {results}\")\n",
        "vertices = results\n",
        "\n",
        "results = conn.getEdgeTypes()\n",
        "print(f\"Edges: {results}\")\n",
        "edges = results"
      ],
      "metadata": {
        "id": "AOQ8j1aXgD6J",
        "colab": {
          "base_uri": "https://localhost:8080/"
        },
        "outputId": "271f1ff4-3966-4dde-cb10-223a4a5d82db"
      },
      "execution_count": 10,
      "outputs": [
        {
          "output_type": "stream",
          "name": "stdout",
          "text": [
            "veticies: ['Customer', 'Account', 'Demographic', 'Mobile_App', 'Session', 'Transaction', 'Ticket', 'Product_Type', 'Product', 'Branch', 'ATM', 'POS']\n",
            "Edges: ['HAS_ACCOUNT', 'HAS_DEMOGRAPHIC', 'USED_BY', 'TRACKED_BY', 'HAS_TICKET', 'SENDS', 'RECEIVES', 'HAS_PRODUCT', 'HAS_TYPE', 'AGGREGATE', 'ISSUED_AT', 'USES', 'HAS']\n"
          ]
        }
      ]
    },
    {
      "cell_type": "code",
      "source": [
        "print(\"Vertex count\")\n",
        "for vertex in vertices:\n",
        "  print(f\"There are {conn.getVertexCount(vertex)} {vertex} vertices in the graph\")\n",
        "\n",
        "print(\"--------------------------\")\n",
        "print(\"Edge count\")\n",
        "for edge in edges:\n",
        "  print(f\"There are {conn.getEdgeCount(edge)} {edge} edges in the graph\")"
      ],
      "metadata": {
        "id": "z3mg23EIgPdS",
        "colab": {
          "base_uri": "https://localhost:8080/"
        },
        "outputId": "515ffc8b-42a1-4b33-f234-33f0865ac923"
      },
      "execution_count": 11,
      "outputs": [
        {
          "output_type": "stream",
          "name": "stdout",
          "text": [
            "Vertex count\n",
            "There are 961751 Customer vertices in the graph\n",
            "There are 4316630 Account vertices in the graph\n",
            "There are 500000 Demographic vertices in the graph\n",
            "There are 3142370 Mobile_App vertices in the graph\n",
            "There are 499358 Session vertices in the graph\n",
            "There are 497280 Transaction vertices in the graph\n",
            "There are 10475 Ticket vertices in the graph\n",
            "There are 689 Product_Type vertices in the graph\n",
            "There are 689 Product vertices in the graph\n",
            "There are 1368 Branch vertices in the graph\n",
            "There are 54543 ATM vertices in the graph\n",
            "There are 5373567 POS vertices in the graph\n",
            "--------------------------\n",
            "Edge count\n",
            "There are 500000 HAS_ACCOUNT edges in the graph\n",
            "There are 500000 HAS_DEMOGRAPHIC edges in the graph\n",
            "There are 3892746 USED_BY edges in the graph\n",
            "There are 499854 TRACKED_BY edges in the graph\n",
            "There are 10475 HAS_TICKET edges in the graph\n",
            "There are 248275 SENDS edges in the graph\n",
            "There are 283 RECEIVES edges in the graph\n",
            "There are 500000 HAS_PRODUCT edges in the graph\n",
            "There are 689 HAS_TYPE edges in the graph\n",
            "There are 0 AGGREGATE edges in the graph\n",
            "There are 500000 ISSUED_AT edges in the graph\n",
            "There are 496924 USES edges in the graph\n",
            "There are 497280 HAS edges in the graph\n"
          ]
        }
      ]
    },
    {
      "cell_type": "code",
      "source": [
        ""
      ],
      "metadata": {
        "id": "TSyD9fzUgR0g"
      },
      "execution_count": null,
      "outputs": []
    }
  ]
}