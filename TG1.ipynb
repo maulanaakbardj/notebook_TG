{
  "nbformat": 4,
  "nbformat_minor": 0,
  "metadata": {
    "colab": {
      "name": "TG1.ipynb",
      "provenance": [],
      "collapsed_sections": [],
      "authorship_tag": "ABX9TyMWWXHBX3K4ZoK8mVXCtO0B",
      "include_colab_link": true
    },
    "kernelspec": {
      "name": "python3",
      "display_name": "Python 3"
    },
    "language_info": {
      "name": "python"
    }
  },
  "cells": [
    {
      "cell_type": "markdown",
      "metadata": {
        "id": "view-in-github",
        "colab_type": "text"
      },
      "source": [
        "<a href=\"https://colab.research.google.com/github/maulanaakbardj/notebook_TG/blob/main/TG1.ipynb\" target=\"_parent\"><img src=\"https://colab.research.google.com/assets/colab-badge.svg\" alt=\"Open In Colab\"/></a>"
      ]
    },
    {
      "cell_type": "markdown",
      "source": [
        "# Create and Setup Graph"
      ],
      "metadata": {
        "id": "D1bqjlUgrHJC"
      }
    },
    {
      "cell_type": "code",
      "execution_count": null,
      "metadata": {
        "colab": {
          "base_uri": "https://localhost:8080/"
        },
        "id": "dWFCizwcDo0G",
        "outputId": "9f633d2f-d7ac-483b-8d5f-5228fbf3215b"
      },
      "outputs": [
        {
          "output_type": "stream",
          "name": "stdout",
          "text": [
            "Collecting pyTigerGraph\n",
            "  Downloading pyTigerGraph-0.0.9.8.8-py3-none-any.whl (22 kB)\n",
            "Collecting validators\n",
            "  Downloading validators-0.18.2-py3-none-any.whl (19 kB)\n",
            "Requirement already satisfied: requests in /usr/local/lib/python3.7/dist-packages (from pyTigerGraph) (2.23.0)\n",
            "Collecting pyTigerDriver\n",
            "  Downloading pyTigerDriver-1.0.14-py3-none-any.whl (8.7 kB)\n",
            "Requirement already satisfied: pandas in /usr/local/lib/python3.7/dist-packages (from pyTigerGraph) (1.3.5)\n",
            "Requirement already satisfied: pytz>=2017.3 in /usr/local/lib/python3.7/dist-packages (from pandas->pyTigerGraph) (2018.9)\n",
            "Requirement already satisfied: python-dateutil>=2.7.3 in /usr/local/lib/python3.7/dist-packages (from pandas->pyTigerGraph) (2.8.2)\n",
            "Requirement already satisfied: numpy>=1.17.3 in /usr/local/lib/python3.7/dist-packages (from pandas->pyTigerGraph) (1.19.5)\n",
            "Requirement already satisfied: six>=1.5 in /usr/local/lib/python3.7/dist-packages (from python-dateutil>=2.7.3->pandas->pyTigerGraph) (1.15.0)\n",
            "Requirement already satisfied: certifi>=2017.4.17 in /usr/local/lib/python3.7/dist-packages (from requests->pyTigerGraph) (2021.10.8)\n",
            "Requirement already satisfied: idna<3,>=2.5 in /usr/local/lib/python3.7/dist-packages (from requests->pyTigerGraph) (2.10)\n",
            "Requirement already satisfied: chardet<4,>=3.0.2 in /usr/local/lib/python3.7/dist-packages (from requests->pyTigerGraph) (3.0.4)\n",
            "Requirement already satisfied: urllib3!=1.25.0,!=1.25.1,<1.26,>=1.21.1 in /usr/local/lib/python3.7/dist-packages (from requests->pyTigerGraph) (1.24.3)\n",
            "Requirement already satisfied: decorator>=3.4.0 in /usr/local/lib/python3.7/dist-packages (from validators->pyTigerGraph) (4.4.2)\n",
            "Installing collected packages: validators, pyTigerDriver, pyTigerGraph\n",
            "Successfully installed pyTigerDriver-1.0.14 pyTigerGraph-0.0.9.8.8 validators-0.18.2\n"
          ]
        }
      ],
      "source": [
        "#Setup\n",
        "!pip install pyTigerGraph"
      ]
    },
    {
      "cell_type": "code",
      "source": [
        "import pyTigerGraph as tg\n",
        "conn = tg.TigerGraphConnection(host=\"https://#your_subdomain#.i.tgcloud.io\", password=\"#your_pass\")"
      ],
      "metadata": {
        "id": "lKwZznJfZooP"
      },
      "execution_count": null,
      "outputs": []
    },
    {
      "cell_type": "code",
      "source": [
        "print(conn.gsql('''\n",
        "  CREATE VERTEX Person (PRIMARY_ID id STRING, name STRING, email STRING, username STRING, created_at DATETIME) WITH primary_id_as_attribute=\"true\"\n",
        "  CREATE VERTEX Post (PRIMARY_ID id STRING, content STRING, posted_date DATETIME, deleted BOOL) WITH primary_id_as_attribute=\"true\"\n",
        "  CREATE VERTEX Hastag (PRIMARY_ID tag STRING) WITH primary_id_as_attribute=\"true\"\n",
        "  CREATE VERTEX Message (PRIMARY_ID id STRING, subject STRING, body STRING) WITH primary_id_as_attribute=\"true\"\n",
        "  CREATE DIRECTED EDGE posted (From Person, To Post, post_date DATETIME) WITH REVERSE_EDGE=\"reverse_posted\"\n",
        "  CREATE DIRECTED EDGE liked (From Person, To Post, like_date DATETIME) WITH REVERSE_EDGE=\"reverse_liked\"\n",
        "  CREATE DIRECTED EDGE has_tag (From Post, To Hastag) WITH REVERSE_EDGE=\"reverse_likedhas_tag\"\n",
        "  CREATE DIRECTED EDGE sent_message (From Person, To Message, to_person STRING, sent_date DATETIME) WITH REVERSE_EDGE=\"reverse_sent_message\"\n",
        "  CREATE DIRECTED EDGE received_message (From Message, To Person, from_person STRING, receive_date DATETIME, opened_date DATETIME) WITH REVERSE_EDGE=\"reverse_received_message\"\n",
        "''', options=[]))"
      ],
      "metadata": {
        "colab": {
          "base_uri": "https://localhost:8080/"
        },
        "id": "HJdSo3dbam_e",
        "outputId": "e79b01d2-f551-4fa4-aa4a-b1035814e3ba"
      },
      "execution_count": null,
      "outputs": [
        {
          "output_type": "stream",
          "name": "stdout",
          "text": [
            "Successfully created vertex types: [Person].\n",
            "Successfully created vertex types: [Post].\n",
            "Successfully created vertex types: [Hastag].\n",
            "Successfully created vertex types: [Message].\n",
            "Successfully created edge types: [posted].\n",
            "Successfully created reverse edge types: [reverse_posted].\n",
            "Successfully created edge types: [liked].\n",
            "Successfully created reverse edge types: [reverse_liked].\n",
            "Successfully created edge types: [has_tag].\n",
            "Successfully created reverse edge types: [reverse_likedhas_tag].\n",
            "Successfully created edge types: [sent_message].\n",
            "Successfully created reverse edge types: [reverse_sent_message].\n",
            "Successfully created edge types: [received_message].\n",
            "Successfully created reverse edge types: [reverse_received_message].\n"
          ]
        }
      ]
    },
    {
      "cell_type": "code",
      "source": [
        "print(conn.gsql('''CREATE GRAPH MyGraph_1(Person, Post, Hastag, Message, posted, liked, has_tag, sent_message, received_message)''', options=[]))"
      ],
      "metadata": {
        "colab": {
          "base_uri": "https://localhost:8080/"
        },
        "id": "0ike7govgLZ-",
        "outputId": "5007ac1f-398a-4df6-9354-7f135ce16675"
      },
      "execution_count": null,
      "outputs": [
        {
          "output_type": "stream",
          "name": "stdout",
          "text": [
            "The graph MyGraph_1 is created.\n"
          ]
        }
      ]
    },
    {
      "cell_type": "code",
      "source": [
        "conn.graphname = \"MyGraph_1\"\n",
        "secret = conn.createSecret()\n",
        "token = conn.getToken(secret, setToken=True)\n",
        "print(token)"
      ],
      "metadata": {
        "colab": {
          "base_uri": "https://localhost:8080/"
        },
        "id": "RKVAWja3kBGm",
        "outputId": "7f32ae98-6ca6-4bf3-c0f5-17adc4160fe1"
      },
      "execution_count": null,
      "outputs": [
        {
          "output_type": "stream",
          "name": "stdout",
          "text": [
            "('trnrnbiidnd9kc05d1hduoedr6hrktp3', 1647035669, '2022-03-11 21:54:29')\n"
          ]
        }
      ]
    },
    {
      "cell_type": "code",
      "source": [
        "!git clone https://github.com/maulanaakbardj/TigerGraph-101"
      ],
      "metadata": {
        "colab": {
          "base_uri": "https://localhost:8080/"
        },
        "id": "MswsrpNDkudr",
        "outputId": "b1d39656-3e6c-4609-ba2d-fd84f85d9900"
      },
      "execution_count": null,
      "outputs": [
        {
          "output_type": "stream",
          "name": "stdout",
          "text": [
            "Cloning into 'TigerGraph-101'...\n",
            "remote: Enumerating objects: 9, done.\u001b[K\n",
            "remote: Counting objects: 100% (9/9), done.\u001b[K\n",
            "remote: Compressing objects: 100% (8/8), done.\u001b[K\n",
            "remote: Total 9 (delta 2), reused 0 (delta 0), pack-reused 0\u001b[K\n",
            "Unpacking objects: 100% (9/9), done.\n"
          ]
        }
      ]
    },
    {
      "cell_type": "code",
      "source": [
        "!head -n 2 /content/TigerGraph-101/posts.csv"
      ],
      "metadata": {
        "colab": {
          "base_uri": "https://localhost:8080/"
        },
        "id": "qxO-vujTlYAS",
        "outputId": "6c54e017-acba-477d-d974-7ff8d12447b1"
      },
      "execution_count": 28,
      "outputs": [
        {
          "output_type": "stream",
          "name": "stdout",
          "text": [
            "id,content,posted_date,by_user,deleted,hashtag_1,hashtag_2,hashtag_3,hashtag_4\r\n",
            "1,\"Proin interdum mauris non ligula pellentesque ultrices. Phasellus id sapien in sapien iaculis congue. Vivamus metus arcu, adipiscing molestie, hendrerit at, vulputate vitae, nisl. Aenean lectus. Pellentesque eget nunc. Donec quis orci eget orci vehicula condimentum. Curabitur in libero ut massa volutpat convallis. Morbi odio odio, elementum eu, interdum eu, tincidunt in, leo.\",2019-08-04 20:43:08,69,False,Compatible,Organized,,workforce\r\n"
          ]
        }
      ]
    },
    {
      "cell_type": "code",
      "source": [
        "results= conn.gsql('''\n",
        "  USE GRAPH MyGraph_1\n",
        "  BEGIN\n",
        "  CREATE LOADING JOB load_posts FOR GRAPH MyGraph_1 {\n",
        "  DEFINE FILENAME MyDataSource;\n",
        "  LOAD MyDataSource TO VERTEX Post VALUES($0, $1, $2, $4) USING SEPARATOR=\",\", HEADER=\"true\", EOL=\"\\\\n\", QUOTE=\"double\";\n",
        "  LOAD MyDataSource TO VERTEX Hastag VALUES($5) USING SEPARATOR=\",\", HEADER=\"true\", EOL=\"\\\\n\", QUOTE=\"double\";\n",
        "  LOAD MyDataSource TO VERTEX Hastag VALUES($6) USING SEPARATOR=\",\", HEADER=\"true\", EOL=\"\\\\n\", QUOTE=\"double\";\n",
        "  LOAD MyDataSource TO VERTEX Hastag VALUES($7) USING SEPARATOR=\",\", HEADER=\"true\", EOL=\"\\\\n\", QUOTE=\"double\";\n",
        "  LOAD MyDataSource TO VERTEX Hastag VALUES($8) USING SEPARATOR=\",\", HEADER=\"true\", EOL=\"\\\\n\", QUOTE=\"double\";\n",
        "  LOAD MyDataSource TO EDGE posted VALUES($3, $0, $2) USING SEPARATOR=\",\", HEADER=\"true\", EOL=\"\\\\n\", QUOTE=\"double\";\n",
        "  LOAD MyDataSource TO EDGE has_tag VALUES($0, $5) USING SEPARATOR=\",\", HEADER=\"true\", EOL=\"\\\\n\", QUOTE=\"double\";\n",
        "  LOAD MyDataSource TO EDGE has_tag VALUES($0, $6) USING SEPARATOR=\",\", HEADER=\"true\", EOL=\"\\\\n\", QUOTE=\"double\";\n",
        "  LOAD MyDataSource TO EDGE has_tag VALUES($0, $7) USING SEPARATOR=\",\", HEADER=\"true\", EOL=\"\\\\n\", QUOTE=\"double\";\n",
        "  LOAD MyDataSource TO EDGE has_tag VALUES($0, $8) USING SEPARATOR=\",\", HEADER=\"true\", EOL=\"\\\\n\", QUOTE=\"double\";\n",
        "  }\n",
        "  END\n",
        "''', options=[])\n",
        "print(results)"
      ],
      "metadata": {
        "colab": {
          "base_uri": "https://localhost:8080/"
        },
        "id": "KJHnzs_Wnek9",
        "outputId": "fabc1620-39a4-4d40-fc10-8dcca73f2846"
      },
      "execution_count": null,
      "outputs": [
        {
          "output_type": "stream",
          "name": "stdout",
          "text": [
            "Using graph 'MyGraph_1'\n",
            "Successfully created loading jobs: [load_posts].\n"
          ]
        }
      ]
    },
    {
      "cell_type": "code",
      "source": [
        "!head -n 2 /content/TigerGraph-101/likes.csv"
      ],
      "metadata": {
        "colab": {
          "base_uri": "https://localhost:8080/"
        },
        "id": "M0oSONGpasMU",
        "outputId": "15e2d93f-1d48-47be-cec5-e75839658bbd"
      },
      "execution_count": null,
      "outputs": [
        {
          "output_type": "stream",
          "name": "stdout",
          "text": [
            "id,by_user,liked_post,liked_date\r\n",
            "1,65,798,2019-01-02 08:11:14\r\n"
          ]
        }
      ]
    },
    {
      "cell_type": "code",
      "source": [
        "results= conn.gsql('''\n",
        "  USE GRAPH MyGraph_1\n",
        "  BEGIN\n",
        "  CREATE LOADING JOB load_likes FOR GRAPH MyGraph_1 {\n",
        "  DEFINE FILENAME MyDataSource;\n",
        "  LOAD MyDataSource TO EDGE liked VALUES($1, $2, $3) USING SEPARATOR=\",\", HEADER=\"true\", EOL=\"\\\\n\";\n",
        "  }\n",
        "  END\n",
        "''', options=[])\n",
        "print(results)"
      ],
      "metadata": {
        "colab": {
          "base_uri": "https://localhost:8080/"
        },
        "id": "72trJh7xbOui",
        "outputId": "6037506d-2166-4bc7-f8eb-b2bd7170b4d6"
      },
      "execution_count": null,
      "outputs": [
        {
          "output_type": "stream",
          "name": "stdout",
          "text": [
            "Using graph 'MyGraph_1'\n",
            "Successfully created loading jobs: [load_likes].\n"
          ]
        }
      ]
    },
    {
      "cell_type": "code",
      "source": [
        "!head -n 2 /content/TigerGraph-101/messages.csv"
      ],
      "metadata": {
        "colab": {
          "base_uri": "https://localhost:8080/"
        },
        "id": "RX9XLqSxbjpl",
        "outputId": "6ded3881-e21d-48a3-dc76-ff75ddd60ab4"
      },
      "execution_count": null,
      "outputs": [
        {
          "output_type": "stream",
          "name": "stdout",
          "text": [
            "id,body,subject,by_user,to_user,send_date,read_date\r\n",
            "1,\"Integer pede justo, lacinia eget, tincidunt eget, tempus vel, pede. Morbi porttitor lorem id ligula. Suspendisse ornare consequat lectus. In est risus, auctor sed, tristique in, tempus sit amet, sem. Fusce consequat. Nulla nisl.\",Nulla facilisi.,22,62,2019-05-01 03:40:51,2019-06-10 03:40:51\r\n"
          ]
        }
      ]
    },
    {
      "cell_type": "code",
      "source": [
        "results= conn.gsql('''\n",
        "  USE GRAPH MyGraph_1\n",
        "  BEGIN\n",
        "  CREATE LOADING JOB load_messages FOR GRAPH MyGraph_1 {\n",
        "  DEFINE FILENAME MyDataSource;\n",
        "  LOAD MyDataSource TO VERTEX Message VALUES($0, $2, $1) USING SEPARATOR=\",\", HEADER=\"true\", EOL=\"\\\\n\", QUOTE=\"double\";\n",
        "  LOAD MyDataSource TO EDGE sent_message VALUES($3, $0, $4, $5) USING SEPARATOR=\",\", HEADER=\"true\", EOL=\"\\\\n\", QUOTE=\"double\";\n",
        "  LOAD MyDataSource TO EDGE received_message VALUES($0, $4, $3, $5, $6) USING SEPARATOR=\",\", HEADER=\"true\", EOL=\"\\\\n\", QUOTE=\"double\";\n",
        "  }\n",
        "  END\n",
        "''', options=[])\n",
        "print(results)"
      ],
      "metadata": {
        "colab": {
          "base_uri": "https://localhost:8080/"
        },
        "id": "VhfNz7hhbpKa",
        "outputId": "600788a7-ff91-4be2-8188-1bb720687d26"
      },
      "execution_count": null,
      "outputs": [
        {
          "output_type": "stream",
          "name": "stdout",
          "text": [
            "Using graph 'MyGraph_1'\n",
            "Successfully created loading jobs: [load_messages].\n"
          ]
        }
      ]
    },
    {
      "cell_type": "code",
      "source": [
        "!head -n 2 /content/TigerGraph-101/users.csv"
      ],
      "metadata": {
        "colab": {
          "base_uri": "https://localhost:8080/"
        },
        "id": "5LflE-QHcWqe",
        "outputId": "8e1108ab-d8c9-4e1a-8006-0213108f947b"
      },
      "execution_count": null,
      "outputs": [
        {
          "output_type": "stream",
          "name": "stdout",
          "text": [
            "id,email,username,name,join_date\r\n",
            "1,mgeistmann0@accuweather.com,mgeistmann0,Marvin Geistmann,2018-09-30 07:31:34\r\n"
          ]
        }
      ]
    },
    {
      "cell_type": "code",
      "source": [
        "results=conn.gsql('''\n",
        "  USE GRAPH MyGraph_1\n",
        "  BEGIN\n",
        "  CREATE LOADING JOB load_people FOR GRAPH MyGraph_1 {\n",
        "  DEFINE FILENAME MyDataSource;\n",
        "  LOAD MyDataSource TO VERTEX Person VALUES($0, $3, $1, $2, $4) USING SEPARATOR=\",\", HEADER=\"true\", EOL=\"\\\\n\";\n",
        "  }\n",
        "  END\n",
        "''', options=[])\n",
        "print(results)"
      ],
      "metadata": {
        "colab": {
          "base_uri": "https://localhost:8080/"
        },
        "id": "75F9gXyicgQk",
        "outputId": "ed0f3d5f-8865-4b1e-876b-b797305e6dc8"
      },
      "execution_count": null,
      "outputs": [
        {
          "output_type": "stream",
          "name": "stdout",
          "text": [
            "Using graph 'MyGraph_1'\n",
            "Successfully created loading jobs: [load_people].\n"
          ]
        }
      ]
    },
    {
      "cell_type": "code",
      "source": [
        "import json"
      ],
      "metadata": {
        "id": "GgYMGahCh6l4"
      },
      "execution_count": 31,
      "outputs": []
    },
    {
      "cell_type": "code",
      "source": [
        "#Load the posts file with the 'load_posts' job\n",
        "posts_file='/content/TigerGraph-101/posts.csv'\n",
        "results=conn.uploadFile(posts_file, fileTag='MyDataSource', jobName='load_posts')\n",
        "print(json.dumps(results,indent=2))"
      ],
      "metadata": {
        "id": "-RZH5xG6c1Np",
        "colab": {
          "base_uri": "https://localhost:8080/"
        },
        "outputId": "5d6130c3-4afb-4426-f6db-cd37e6748769"
      },
      "execution_count": 32,
      "outputs": [
        {
          "output_type": "stream",
          "name": "stdout",
          "text": [
            "[\n",
            "  {\n",
            "    \"sourceFileName\": \"Online_POST\",\n",
            "    \"statistics\": {\n",
            "      \"validLine\": 1001,\n",
            "      \"rejectLine\": 0,\n",
            "      \"failedConditionLine\": 0,\n",
            "      \"notEnoughToken\": 0,\n",
            "      \"invalidJson\": 0,\n",
            "      \"oversizeToken\": 0,\n",
            "      \"vertex\": [\n",
            "        {\n",
            "          \"typeName\": \"Post\",\n",
            "          \"validObject\": 1000,\n",
            "          \"noIdFound\": 0,\n",
            "          \"invalidAttribute\": 1,\n",
            "          \"invalidAttributeLines\": [\n",
            "            \"1:posted_date\"\n",
            "          ],\n",
            "          \"invalidAttributeLinesData\": [\n",
            "            \"id,content,posted_date,by_user,deleted,hashtag_1,hashtag_2,hashtag_3,hashtag_4\\r\\n\"\n",
            "          ],\n",
            "          \"invalidVertexType\": 0,\n",
            "          \"invalidPrimaryId\": 0,\n",
            "          \"invalidSecondaryId\": 0,\n",
            "          \"incorrectFixedBinaryLength\": 0\n",
            "        },\n",
            "        {\n",
            "          \"typeName\": \"Hastag\",\n",
            "          \"validObject\": 1001,\n",
            "          \"noIdFound\": 0,\n",
            "          \"invalidAttribute\": 0,\n",
            "          \"invalidVertexType\": 0,\n",
            "          \"invalidPrimaryId\": 0,\n",
            "          \"invalidSecondaryId\": 0,\n",
            "          \"incorrectFixedBinaryLength\": 0\n",
            "        },\n",
            "        {\n",
            "          \"typeName\": \"Hastag\",\n",
            "          \"validObject\": 797,\n",
            "          \"noIdFound\": 204,\n",
            "          \"invalidAttribute\": 0,\n",
            "          \"invalidVertexType\": 0,\n",
            "          \"invalidPrimaryId\": 0,\n",
            "          \"invalidSecondaryId\": 0,\n",
            "          \"incorrectFixedBinaryLength\": 0\n",
            "        },\n",
            "        {\n",
            "          \"typeName\": \"Hastag\",\n",
            "          \"validObject\": 494,\n",
            "          \"noIdFound\": 507,\n",
            "          \"invalidAttribute\": 0,\n",
            "          \"invalidVertexType\": 0,\n",
            "          \"invalidPrimaryId\": 0,\n",
            "          \"invalidSecondaryId\": 0,\n",
            "          \"incorrectFixedBinaryLength\": 0\n",
            "        },\n",
            "        {\n",
            "          \"typeName\": \"Hastag\",\n",
            "          \"validObject\": 282,\n",
            "          \"noIdFound\": 719,\n",
            "          \"invalidAttribute\": 0,\n",
            "          \"invalidVertexType\": 0,\n",
            "          \"invalidPrimaryId\": 0,\n",
            "          \"invalidSecondaryId\": 0,\n",
            "          \"incorrectFixedBinaryLength\": 0\n",
            "        }\n",
            "      ],\n",
            "      \"edge\": [\n",
            "        {\n",
            "          \"typeName\": \"posted\",\n",
            "          \"validObject\": 1000,\n",
            "          \"noIdFound\": 0,\n",
            "          \"invalidAttribute\": 1,\n",
            "          \"invalidAttributeLines\": [\n",
            "            \"1:post_date\"\n",
            "          ],\n",
            "          \"invalidAttributeLinesData\": [\n",
            "            \"id,content,posted_date,by_user,deleted,hashtag_1,hashtag_2,hashtag_3,hashtag_4\\r\\n\"\n",
            "          ],\n",
            "          \"invalidVertexType\": 0,\n",
            "          \"invalidPrimaryId\": 0,\n",
            "          \"invalidSecondaryId\": 0,\n",
            "          \"incorrectFixedBinaryLength\": 0\n",
            "        },\n",
            "        {\n",
            "          \"typeName\": \"has_tag\",\n",
            "          \"validObject\": 1001,\n",
            "          \"noIdFound\": 0,\n",
            "          \"invalidAttribute\": 0,\n",
            "          \"invalidVertexType\": 0,\n",
            "          \"invalidPrimaryId\": 0,\n",
            "          \"invalidSecondaryId\": 0,\n",
            "          \"incorrectFixedBinaryLength\": 0\n",
            "        },\n",
            "        {\n",
            "          \"typeName\": \"has_tag\",\n",
            "          \"validObject\": 797,\n",
            "          \"noIdFound\": 204,\n",
            "          \"invalidAttribute\": 0,\n",
            "          \"invalidVertexType\": 0,\n",
            "          \"invalidPrimaryId\": 0,\n",
            "          \"invalidSecondaryId\": 0,\n",
            "          \"incorrectFixedBinaryLength\": 0\n",
            "        },\n",
            "        {\n",
            "          \"typeName\": \"has_tag\",\n",
            "          \"validObject\": 494,\n",
            "          \"noIdFound\": 507,\n",
            "          \"invalidAttribute\": 0,\n",
            "          \"invalidVertexType\": 0,\n",
            "          \"invalidPrimaryId\": 0,\n",
            "          \"invalidSecondaryId\": 0,\n",
            "          \"incorrectFixedBinaryLength\": 0\n",
            "        },\n",
            "        {\n",
            "          \"typeName\": \"has_tag\",\n",
            "          \"validObject\": 282,\n",
            "          \"noIdFound\": 719,\n",
            "          \"invalidAttribute\": 0,\n",
            "          \"invalidVertexType\": 0,\n",
            "          \"invalidPrimaryId\": 0,\n",
            "          \"invalidSecondaryId\": 0,\n",
            "          \"incorrectFixedBinaryLength\": 0\n",
            "        }\n",
            "      ],\n",
            "      \"deleteVertex\": [],\n",
            "      \"deleteEdge\": []\n",
            "    }\n",
            "  }\n",
            "]\n"
          ]
        }
      ]
    },
    {
      "cell_type": "code",
      "source": [
        "#Load the posts file with the 'load_likes' job\n",
        "likes_file='/content/TigerGraph-101/likes.csv'\n",
        "results=conn.uploadFile(likes_file, fileTag='MyDataSource', jobName='load_likes')\n",
        "print(json.dumps(results,indent=2))"
      ],
      "metadata": {
        "colab": {
          "base_uri": "https://localhost:8080/"
        },
        "id": "TM4hqU3shEZZ",
        "outputId": "570fb3af-98ce-4b59-e27b-2a568f5e8009"
      },
      "execution_count": 33,
      "outputs": [
        {
          "output_type": "stream",
          "name": "stdout",
          "text": [
            "[\n",
            "  {\n",
            "    \"sourceFileName\": \"Online_POST\",\n",
            "    \"statistics\": {\n",
            "      \"validLine\": 5001,\n",
            "      \"rejectLine\": 0,\n",
            "      \"failedConditionLine\": 0,\n",
            "      \"notEnoughToken\": 0,\n",
            "      \"invalidJson\": 0,\n",
            "      \"oversizeToken\": 0,\n",
            "      \"vertex\": [],\n",
            "      \"edge\": [\n",
            "        {\n",
            "          \"typeName\": \"liked\",\n",
            "          \"validObject\": 5000,\n",
            "          \"noIdFound\": 0,\n",
            "          \"invalidAttribute\": 1,\n",
            "          \"invalidAttributeLines\": [\n",
            "            \"1:like_date\"\n",
            "          ],\n",
            "          \"invalidAttributeLinesData\": [\n",
            "            \"id,by_user,liked_post,liked_date\\r\\n\"\n",
            "          ],\n",
            "          \"invalidVertexType\": 0,\n",
            "          \"invalidPrimaryId\": 0,\n",
            "          \"invalidSecondaryId\": 0,\n",
            "          \"incorrectFixedBinaryLength\": 0\n",
            "        }\n",
            "      ],\n",
            "      \"deleteVertex\": [],\n",
            "      \"deleteEdge\": []\n",
            "    }\n",
            "  }\n",
            "]\n"
          ]
        }
      ]
    },
    {
      "cell_type": "code",
      "source": [
        "#Load the posts file with the 'load_messages' job\n",
        "messages_file='/content/TigerGraph-101/messages.csv'\n",
        "results=conn.uploadFile(messages_file, fileTag='MyDataSource', jobName='load_messages')\n",
        "print(json.dumps(results,indent=2))"
      ],
      "metadata": {
        "colab": {
          "base_uri": "https://localhost:8080/"
        },
        "id": "Xxtjnc9PhSjw",
        "outputId": "fe7f041a-7e57-4b5d-814e-bd229fac9d48"
      },
      "execution_count": 34,
      "outputs": [
        {
          "output_type": "stream",
          "name": "stdout",
          "text": [
            "[\n",
            "  {\n",
            "    \"sourceFileName\": \"Online_POST\",\n",
            "    \"statistics\": {\n",
            "      \"validLine\": 1001,\n",
            "      \"rejectLine\": 0,\n",
            "      \"failedConditionLine\": 0,\n",
            "      \"notEnoughToken\": 0,\n",
            "      \"invalidJson\": 0,\n",
            "      \"oversizeToken\": 0,\n",
            "      \"vertex\": [\n",
            "        {\n",
            "          \"typeName\": \"Message\",\n",
            "          \"validObject\": 1001,\n",
            "          \"noIdFound\": 0,\n",
            "          \"invalidAttribute\": 0,\n",
            "          \"invalidVertexType\": 0,\n",
            "          \"invalidPrimaryId\": 0,\n",
            "          \"invalidSecondaryId\": 0,\n",
            "          \"incorrectFixedBinaryLength\": 0\n",
            "        }\n",
            "      ],\n",
            "      \"edge\": [\n",
            "        {\n",
            "          \"typeName\": \"sent_message\",\n",
            "          \"validObject\": 1000,\n",
            "          \"noIdFound\": 0,\n",
            "          \"invalidAttribute\": 1,\n",
            "          \"invalidAttributeLines\": [\n",
            "            \"1:sent_date\"\n",
            "          ],\n",
            "          \"invalidAttributeLinesData\": [\n",
            "            \"id,body,subject,by_user,to_user,send_date,read_date\\r\\n\"\n",
            "          ],\n",
            "          \"invalidVertexType\": 0,\n",
            "          \"invalidPrimaryId\": 0,\n",
            "          \"invalidSecondaryId\": 0,\n",
            "          \"incorrectFixedBinaryLength\": 0\n",
            "        },\n",
            "        {\n",
            "          \"typeName\": \"received_message\",\n",
            "          \"validObject\": 1000,\n",
            "          \"noIdFound\": 0,\n",
            "          \"invalidAttribute\": 1,\n",
            "          \"invalidAttributeLines\": [\n",
            "            \"1:receive_date\"\n",
            "          ],\n",
            "          \"invalidAttributeLinesData\": [\n",
            "            \"id,body,subject,by_user,to_user,send_date,read_date\\r\\n\"\n",
            "          ],\n",
            "          \"invalidVertexType\": 0,\n",
            "          \"invalidPrimaryId\": 0,\n",
            "          \"invalidSecondaryId\": 0,\n",
            "          \"incorrectFixedBinaryLength\": 0\n",
            "        }\n",
            "      ],\n",
            "      \"deleteVertex\": [],\n",
            "      \"deleteEdge\": []\n",
            "    }\n",
            "  }\n",
            "]\n"
          ]
        }
      ]
    },
    {
      "cell_type": "code",
      "source": [
        "#Load the posts file with the 'load_people' job\n",
        "people_file='/content/TigerGraph-101/users.csv'\n",
        "results=conn.uploadFile(people_file, fileTag='MyDataSource', jobName='load_people')\n",
        "print(json.dumps(results,indent=2))"
      ],
      "metadata": {
        "colab": {
          "base_uri": "https://localhost:8080/"
        },
        "id": "EyKAMYVhhe3h",
        "outputId": "7b3dc0f9-96aa-4c72-e605-37a23b78341f"
      },
      "execution_count": 35,
      "outputs": [
        {
          "output_type": "stream",
          "name": "stdout",
          "text": [
            "[\n",
            "  {\n",
            "    \"sourceFileName\": \"Online_POST\",\n",
            "    \"statistics\": {\n",
            "      \"validLine\": 101,\n",
            "      \"rejectLine\": 0,\n",
            "      \"failedConditionLine\": 0,\n",
            "      \"notEnoughToken\": 0,\n",
            "      \"invalidJson\": 0,\n",
            "      \"oversizeToken\": 0,\n",
            "      \"vertex\": [\n",
            "        {\n",
            "          \"typeName\": \"Person\",\n",
            "          \"validObject\": 100,\n",
            "          \"noIdFound\": 0,\n",
            "          \"invalidAttribute\": 1,\n",
            "          \"invalidAttributeLines\": [\n",
            "            \"1:created_at\"\n",
            "          ],\n",
            "          \"invalidAttributeLinesData\": [\n",
            "            \"id,email,username,name,join_date\\r\\n\"\n",
            "          ],\n",
            "          \"invalidVertexType\": 0,\n",
            "          \"invalidPrimaryId\": 0,\n",
            "          \"invalidSecondaryId\": 0,\n",
            "          \"incorrectFixedBinaryLength\": 0\n",
            "        }\n",
            "      ],\n",
            "      \"edge\": [],\n",
            "      \"deleteVertex\": [],\n",
            "      \"deleteEdge\": []\n",
            "    }\n",
            "  }\n",
            "]\n"
          ]
        }
      ]
    },
    {
      "cell_type": "markdown",
      "source": [
        "# Get Vertex and Edge Schema"
      ],
      "metadata": {
        "id": "sQy74puMjudW"
      }
    },
    {
      "cell_type": "code",
      "source": [
        "results = conn.getVertexTypes()\n",
        "print(f\"veticies: {results}\")\n",
        "vertices = results\n",
        "\n",
        "results = conn.getEdgeTypes()\n",
        "print(f\"Edges: {results}\")\n",
        "edges = results"
      ],
      "metadata": {
        "colab": {
          "base_uri": "https://localhost:8080/"
        },
        "id": "yRJIQL51iAtj",
        "outputId": "109476c3-2e75-4d18-ab7a-a6b8a2303984"
      },
      "execution_count": 36,
      "outputs": [
        {
          "output_type": "stream",
          "name": "stdout",
          "text": [
            "veticies: ['Person', 'Post', 'Hastag', 'Message']\n",
            "Edges: ['posted', 'liked', 'has_tag', 'sent_message', 'received_message']\n"
          ]
        }
      ]
    },
    {
      "cell_type": "code",
      "source": [
        "print(\"Vertex count\")\n",
        "for vertex in vertices:\n",
        "  print(f\"There are {conn.getVertexCount(vertex)} {vertex} vertices in the graph\")\n",
        "\n",
        "print(\"--------------------------\")\n",
        "print(\"Edge count\")\n",
        "for edge in edges:\n",
        "  print(f\"There are {conn.getEdgeCount(edge)} {edge} edges in the graph\")"
      ],
      "metadata": {
        "colab": {
          "base_uri": "https://localhost:8080/"
        },
        "id": "kOz0laiTkPBk",
        "outputId": "52cda3af-c53e-418d-9873-79fe5697c59d"
      },
      "execution_count": 54,
      "outputs": [
        {
          "output_type": "stream",
          "name": "stdout",
          "text": [
            "Vertex count\n",
            "There are 100 Person vertices in the graph\n",
            "There are 1001 Post vertices in the graph\n",
            "There are 308 Hastag vertices in the graph\n",
            "There are 1001 Message vertices in the graph\n",
            "--------------------------\n",
            "Edge count\n",
            "There are 1000 posted edges in the graph\n",
            "There are 4869 liked edges in the graph\n",
            "There are 2567 has_tag edges in the graph\n",
            "There are 1000 sent_message edges in the graph\n",
            "There are 1000 received_message edges in the graph\n"
          ]
        }
      ]
    },
    {
      "cell_type": "markdown",
      "source": [
        "# Getting Vertex"
      ],
      "metadata": {
        "id": "uBJRJUsRnP-7"
      }
    },
    {
      "cell_type": "code",
      "source": [
        "import pprint as pp\n",
        "results = conn.getVerticesById(\"Person\", \"30\")\n",
        "pp.pprint(results)"
      ],
      "metadata": {
        "colab": {
          "base_uri": "https://localhost:8080/"
        },
        "id": "oa7hEtZVnPY8",
        "outputId": "9997c088-4f52-4ccd-a930-64db01457c75"
      },
      "execution_count": 57,
      "outputs": [
        {
          "output_type": "stream",
          "name": "stdout",
          "text": [
            "[{'attributes': {'created_at': '2018-12-23 08:52:51',\n",
            "                 'email': 'gmattint@dion.ne.jp',\n",
            "                 'id': '30',\n",
            "                 'name': 'Garrot Mattin',\n",
            "                 'username': 'gmattint'},\n",
            "  'v_id': '30',\n",
            "  'v_type': 'Person'}]\n"
          ]
        }
      ]
    },
    {
      "cell_type": "code",
      "source": [
        "reprint = conn.getVerticesById(\"Post\", [\"300\",\"400\"])\n",
        "pp.pprint(reprint)"
      ],
      "metadata": {
        "colab": {
          "base_uri": "https://localhost:8080/"
        },
        "id": "w5_3LOCIkthh",
        "outputId": "83f7f002-5e37-4b43-c54f-2fbb7236d8b1"
      },
      "execution_count": 59,
      "outputs": [
        {
          "output_type": "stream",
          "name": "stdout",
          "text": [
            "[{'attributes': {'content': 'In congue. Etiam justo.',\n",
            "                 'deleted': False,\n",
            "                 'id': '300',\n",
            "                 'posted_date': '2020-10-15 11:25:30'},\n",
            "  'v_id': '300',\n",
            "  'v_type': 'Post'},\n",
            " {'attributes': {'content': 'Nulla neque libero, convallis eget, eleifend '\n",
            "                            'luctus, ultricies eu, nibh. Quisque id justo sit '\n",
            "                            'amet sapien dignissim vestibulum. Vestibulum ante '\n",
            "                            'ipsum primis in faucibus orci luctus et ultrices '\n",
            "                            'posuere cubilia Curae; Nulla dapibus dolor vel '\n",
            "                            'est. Donec odio justo, sollicitudin ut, suscipit '\n",
            "                            'a, feugiat et, eros.',\n",
            "                 'deleted': False,\n",
            "                 'id': '400',\n",
            "                 'posted_date': '2020-03-16 11:19:30'},\n",
            "  'v_id': '400',\n",
            "  'v_type': 'Post'}]\n"
          ]
        }
      ]
    },
    {
      "cell_type": "code",
      "source": [
        ""
      ],
      "metadata": {
        "id": "GGfy2Ry0oJ0P"
      },
      "execution_count": null,
      "outputs": []
    },
    {
      "cell_type": "markdown",
      "source": [
        "# Count Edges Connected to a vertex"
      ],
      "metadata": {
        "id": "6WOx0K41oV4j"
      }
    },
    {
      "cell_type": "code",
      "source": [
        "results = conn.getEdgeCountFrom(\"Person\", \"30\")\n",
        "pp.pprint(results)"
      ],
      "metadata": {
        "colab": {
          "base_uri": "https://localhost:8080/"
        },
        "id": "gA3UdVKvobSp",
        "outputId": "1fb0ed3d-636c-4559-ff77-6b4b12ed0458"
      },
      "execution_count": 61,
      "outputs": [
        {
          "output_type": "stream",
          "name": "stdout",
          "text": [
            "{'has_tag': 0,\n",
            " 'liked': 47,\n",
            " 'posted': 10,\n",
            " 'received_message': 0,\n",
            " 'reverse_liked': 0,\n",
            " 'reverse_likedhas_tag': 0,\n",
            " 'reverse_posted': 0,\n",
            " 'reverse_received_message': 5,\n",
            " 'reverse_sent_message': 0,\n",
            " 'sent_message': 8}\n"
          ]
        }
      ]
    },
    {
      "cell_type": "markdown",
      "source": [
        "# Show all Edges Connected to a vertex"
      ],
      "metadata": {
        "id": "id6RhYKno6Tc"
      }
    },
    {
      "cell_type": "code",
      "source": [
        "results = conn.getEdges(\"Person\", \"30\")\n",
        "pp.pprint(results)"
      ],
      "metadata": {
        "colab": {
          "base_uri": "https://localhost:8080/"
        },
        "id": "6ZOS5-_9o5eC",
        "outputId": "71864b1d-ddf1-4fee-af68-6d451e7a8692"
      },
      "execution_count": 62,
      "outputs": [
        {
          "output_type": "stream",
          "name": "stdout",
          "text": [
            "[{'attributes': {'post_date': '2020-08-02 04:36:05'},\n",
            "  'directed': True,\n",
            "  'e_type': 'posted',\n",
            "  'from_id': '30',\n",
            "  'from_type': 'Person',\n",
            "  'to_id': '246',\n",
            "  'to_type': 'Post'},\n",
            " {'attributes': {'post_date': '2019-02-16 02:19:16'},\n",
            "  'directed': True,\n",
            "  'e_type': 'posted',\n",
            "  'from_id': '30',\n",
            "  'from_type': 'Person',\n",
            "  'to_id': '998',\n",
            "  'to_type': 'Post'},\n",
            " {'attributes': {'post_date': '2020-03-31 14:49:25'},\n",
            "  'directed': True,\n",
            "  'e_type': 'posted',\n",
            "  'from_id': '30',\n",
            "  'from_type': 'Person',\n",
            "  'to_id': '652',\n",
            "  'to_type': 'Post'},\n",
            " {'attributes': {'post_date': '2019-04-05 20:24:56'},\n",
            "  'directed': True,\n",
            "  'e_type': 'posted',\n",
            "  'from_id': '30',\n",
            "  'from_type': 'Person',\n",
            "  'to_id': '766',\n",
            "  'to_type': 'Post'},\n",
            " {'attributes': {'post_date': '2020-03-16 11:19:30'},\n",
            "  'directed': True,\n",
            "  'e_type': 'posted',\n",
            "  'from_id': '30',\n",
            "  'from_type': 'Person',\n",
            "  'to_id': '400',\n",
            "  'to_type': 'Post'},\n",
            " {'attributes': {'post_date': '2021-06-19 14:36:07'},\n",
            "  'directed': True,\n",
            "  'e_type': 'posted',\n",
            "  'from_id': '30',\n",
            "  'from_type': 'Person',\n",
            "  'to_id': '464',\n",
            "  'to_type': 'Post'},\n",
            " {'attributes': {'post_date': '2021-04-18 01:15:37'},\n",
            "  'directed': True,\n",
            "  'e_type': 'posted',\n",
            "  'from_id': '30',\n",
            "  'from_type': 'Person',\n",
            "  'to_id': '814',\n",
            "  'to_type': 'Post'},\n",
            " {'attributes': {'post_date': '2020-03-01 16:47:38'},\n",
            "  'directed': True,\n",
            "  'e_type': 'posted',\n",
            "  'from_id': '30',\n",
            "  'from_type': 'Person',\n",
            "  'to_id': '977',\n",
            "  'to_type': 'Post'},\n",
            " {'attributes': {'post_date': '2019-10-06 16:09:50'},\n",
            "  'directed': True,\n",
            "  'e_type': 'posted',\n",
            "  'from_id': '30',\n",
            "  'from_type': 'Person',\n",
            "  'to_id': '26',\n",
            "  'to_type': 'Post'},\n",
            " {'attributes': {'post_date': '2019-04-10 14:09:23'},\n",
            "  'directed': True,\n",
            "  'e_type': 'posted',\n",
            "  'from_id': '30',\n",
            "  'from_type': 'Person',\n",
            "  'to_id': '584',\n",
            "  'to_type': 'Post'},\n",
            " {'attributes': {'like_date': '2020-10-26 20:34:33'},\n",
            "  'directed': True,\n",
            "  'e_type': 'liked',\n",
            "  'from_id': '30',\n",
            "  'from_type': 'Person',\n",
            "  'to_id': '308',\n",
            "  'to_type': 'Post'},\n",
            " {'attributes': {'like_date': '2019-04-17 18:00:22'},\n",
            "  'directed': True,\n",
            "  'e_type': 'liked',\n",
            "  'from_id': '30',\n",
            "  'from_type': 'Person',\n",
            "  'to_id': '458',\n",
            "  'to_type': 'Post'},\n",
            " {'attributes': {'like_date': '2020-04-15 15:40:23'},\n",
            "  'directed': True,\n",
            "  'e_type': 'liked',\n",
            "  'from_id': '30',\n",
            "  'from_type': 'Person',\n",
            "  'to_id': '80',\n",
            "  'to_type': 'Post'},\n",
            " {'attributes': {'like_date': '2019-10-13 23:16:03'},\n",
            "  'directed': True,\n",
            "  'e_type': 'liked',\n",
            "  'from_id': '30',\n",
            "  'from_type': 'Person',\n",
            "  'to_id': '283',\n",
            "  'to_type': 'Post'},\n",
            " {'attributes': {'like_date': '2019-09-18 23:27:23'},\n",
            "  'directed': True,\n",
            "  'e_type': 'liked',\n",
            "  'from_id': '30',\n",
            "  'from_type': 'Person',\n",
            "  'to_id': '671',\n",
            "  'to_type': 'Post'},\n",
            " {'attributes': {'like_date': '2020-01-26 18:52:06'},\n",
            "  'directed': True,\n",
            "  'e_type': 'liked',\n",
            "  'from_id': '30',\n",
            "  'from_type': 'Person',\n",
            "  'to_id': '734',\n",
            "  'to_type': 'Post'},\n",
            " {'attributes': {'like_date': '2021-05-25 06:39:31'},\n",
            "  'directed': True,\n",
            "  'e_type': 'liked',\n",
            "  'from_id': '30',\n",
            "  'from_type': 'Person',\n",
            "  'to_id': '680',\n",
            "  'to_type': 'Post'},\n",
            " {'attributes': {'like_date': '2018-07-27 23:45:31'},\n",
            "  'directed': True,\n",
            "  'e_type': 'liked',\n",
            "  'from_id': '30',\n",
            "  'from_type': 'Person',\n",
            "  'to_id': '849',\n",
            "  'to_type': 'Post'},\n",
            " {'attributes': {'like_date': '2018-11-22 08:28:23'},\n",
            "  'directed': True,\n",
            "  'e_type': 'liked',\n",
            "  'from_id': '30',\n",
            "  'from_type': 'Person',\n",
            "  'to_id': '632',\n",
            "  'to_type': 'Post'},\n",
            " {'attributes': {'like_date': '2018-10-04 12:55:47'},\n",
            "  'directed': True,\n",
            "  'e_type': 'liked',\n",
            "  'from_id': '30',\n",
            "  'from_type': 'Person',\n",
            "  'to_id': '155',\n",
            "  'to_type': 'Post'},\n",
            " {'attributes': {'like_date': '2019-04-09 22:36:42'},\n",
            "  'directed': True,\n",
            "  'e_type': 'liked',\n",
            "  'from_id': '30',\n",
            "  'from_type': 'Person',\n",
            "  'to_id': '467',\n",
            "  'to_type': 'Post'},\n",
            " {'attributes': {'like_date': '2021-04-12 01:36:26'},\n",
            "  'directed': True,\n",
            "  'e_type': 'liked',\n",
            "  'from_id': '30',\n",
            "  'from_type': 'Person',\n",
            "  'to_id': '566',\n",
            "  'to_type': 'Post'},\n",
            " {'attributes': {'like_date': '2019-05-31 14:22:44'},\n",
            "  'directed': True,\n",
            "  'e_type': 'liked',\n",
            "  'from_id': '30',\n",
            "  'from_type': 'Person',\n",
            "  'to_id': '564',\n",
            "  'to_type': 'Post'},\n",
            " {'attributes': {'like_date': '2019-05-13 18:41:41'},\n",
            "  'directed': True,\n",
            "  'e_type': 'liked',\n",
            "  'from_id': '30',\n",
            "  'from_type': 'Person',\n",
            "  'to_id': '6',\n",
            "  'to_type': 'Post'},\n",
            " {'attributes': {'like_date': '2021-06-06 22:46:40'},\n",
            "  'directed': True,\n",
            "  'e_type': 'liked',\n",
            "  'from_id': '30',\n",
            "  'from_type': 'Person',\n",
            "  'to_id': '389',\n",
            "  'to_type': 'Post'},\n",
            " {'attributes': {'like_date': '2019-11-19 15:59:43'},\n",
            "  'directed': True,\n",
            "  'e_type': 'liked',\n",
            "  'from_id': '30',\n",
            "  'from_type': 'Person',\n",
            "  'to_id': '60',\n",
            "  'to_type': 'Post'},\n",
            " {'attributes': {'like_date': '2019-04-14 22:33:54'},\n",
            "  'directed': True,\n",
            "  'e_type': 'liked',\n",
            "  'from_id': '30',\n",
            "  'from_type': 'Person',\n",
            "  'to_id': '66',\n",
            "  'to_type': 'Post'},\n",
            " {'attributes': {'like_date': '2019-08-25 20:29:01'},\n",
            "  'directed': True,\n",
            "  'e_type': 'liked',\n",
            "  'from_id': '30',\n",
            "  'from_type': 'Person',\n",
            "  'to_id': '224',\n",
            "  'to_type': 'Post'},\n",
            " {'attributes': {'like_date': '2020-09-14 14:37:55'},\n",
            "  'directed': True,\n",
            "  'e_type': 'liked',\n",
            "  'from_id': '30',\n",
            "  'from_type': 'Person',\n",
            "  'to_id': '735',\n",
            "  'to_type': 'Post'},\n",
            " {'attributes': {'like_date': '2019-12-16 11:18:18'},\n",
            "  'directed': True,\n",
            "  'e_type': 'liked',\n",
            "  'from_id': '30',\n",
            "  'from_type': 'Person',\n",
            "  'to_id': '113',\n",
            "  'to_type': 'Post'},\n",
            " {'attributes': {'like_date': '2018-11-07 09:07:50'},\n",
            "  'directed': True,\n",
            "  'e_type': 'liked',\n",
            "  'from_id': '30',\n",
            "  'from_type': 'Person',\n",
            "  'to_id': '747',\n",
            "  'to_type': 'Post'},\n",
            " {'attributes': {'like_date': '2019-05-09 13:38:05'},\n",
            "  'directed': True,\n",
            "  'e_type': 'liked',\n",
            "  'from_id': '30',\n",
            "  'from_type': 'Person',\n",
            "  'to_id': '387',\n",
            "  'to_type': 'Post'},\n",
            " {'attributes': {'like_date': '2021-02-06 09:47:49'},\n",
            "  'directed': True,\n",
            "  'e_type': 'liked',\n",
            "  'from_id': '30',\n",
            "  'from_type': 'Person',\n",
            "  'to_id': '413',\n",
            "  'to_type': 'Post'},\n",
            " {'attributes': {'like_date': '2019-12-10 13:08:50'},\n",
            "  'directed': True,\n",
            "  'e_type': 'liked',\n",
            "  'from_id': '30',\n",
            "  'from_type': 'Person',\n",
            "  'to_id': '884',\n",
            "  'to_type': 'Post'},\n",
            " {'attributes': {'like_date': '2020-05-19 19:27:56'},\n",
            "  'directed': True,\n",
            "  'e_type': 'liked',\n",
            "  'from_id': '30',\n",
            "  'from_type': 'Person',\n",
            "  'to_id': '214',\n",
            "  'to_type': 'Post'},\n",
            " {'attributes': {'like_date': '2020-11-25 03:25:57'},\n",
            "  'directed': True,\n",
            "  'e_type': 'liked',\n",
            "  'from_id': '30',\n",
            "  'from_type': 'Person',\n",
            "  'to_id': '454',\n",
            "  'to_type': 'Post'},\n",
            " {'attributes': {'like_date': '2020-12-22 10:33:32'},\n",
            "  'directed': True,\n",
            "  'e_type': 'liked',\n",
            "  'from_id': '30',\n",
            "  'from_type': 'Person',\n",
            "  'to_id': '908',\n",
            "  'to_type': 'Post'},\n",
            " {'attributes': {'like_date': '2019-02-06 14:14:15'},\n",
            "  'directed': True,\n",
            "  'e_type': 'liked',\n",
            "  'from_id': '30',\n",
            "  'from_type': 'Person',\n",
            "  'to_id': '153',\n",
            "  'to_type': 'Post'},\n",
            " {'attributes': {'like_date': '2019-11-17 19:42:53'},\n",
            "  'directed': True,\n",
            "  'e_type': 'liked',\n",
            "  'from_id': '30',\n",
            "  'from_type': 'Person',\n",
            "  'to_id': '76',\n",
            "  'to_type': 'Post'},\n",
            " {'attributes': {'like_date': '2018-10-17 20:51:30'},\n",
            "  'directed': True,\n",
            "  'e_type': 'liked',\n",
            "  'from_id': '30',\n",
            "  'from_type': 'Person',\n",
            "  'to_id': '923',\n",
            "  'to_type': 'Post'},\n",
            " {'attributes': {'like_date': '2018-12-30 23:22:01'},\n",
            "  'directed': True,\n",
            "  'e_type': 'liked',\n",
            "  'from_id': '30',\n",
            "  'from_type': 'Person',\n",
            "  'to_id': '635',\n",
            "  'to_type': 'Post'},\n",
            " {'attributes': {'like_date': '2018-11-29 23:56:44'},\n",
            "  'directed': True,\n",
            "  'e_type': 'liked',\n",
            "  'from_id': '30',\n",
            "  'from_type': 'Person',\n",
            "  'to_id': '444',\n",
            "  'to_type': 'Post'},\n",
            " {'attributes': {'like_date': '2020-01-18 07:38:10'},\n",
            "  'directed': True,\n",
            "  'e_type': 'liked',\n",
            "  'from_id': '30',\n",
            "  'from_type': 'Person',\n",
            "  'to_id': '346',\n",
            "  'to_type': 'Post'},\n",
            " {'attributes': {'like_date': '2018-07-31 21:23:07'},\n",
            "  'directed': True,\n",
            "  'e_type': 'liked',\n",
            "  'from_id': '30',\n",
            "  'from_type': 'Person',\n",
            "  'to_id': '139',\n",
            "  'to_type': 'Post'},\n",
            " {'attributes': {'like_date': '2020-10-19 01:22:07'},\n",
            "  'directed': True,\n",
            "  'e_type': 'liked',\n",
            "  'from_id': '30',\n",
            "  'from_type': 'Person',\n",
            "  'to_id': '163',\n",
            "  'to_type': 'Post'},\n",
            " {'attributes': {'like_date': '2020-11-01 18:19:23'},\n",
            "  'directed': True,\n",
            "  'e_type': 'liked',\n",
            "  'from_id': '30',\n",
            "  'from_type': 'Person',\n",
            "  'to_id': '880',\n",
            "  'to_type': 'Post'},\n",
            " {'attributes': {'like_date': '2020-06-08 15:14:06'},\n",
            "  'directed': True,\n",
            "  'e_type': 'liked',\n",
            "  'from_id': '30',\n",
            "  'from_type': 'Person',\n",
            "  'to_id': '209',\n",
            "  'to_type': 'Post'},\n",
            " {'attributes': {'like_date': '2020-01-27 19:04:19'},\n",
            "  'directed': True,\n",
            "  'e_type': 'liked',\n",
            "  'from_id': '30',\n",
            "  'from_type': 'Person',\n",
            "  'to_id': '38',\n",
            "  'to_type': 'Post'},\n",
            " {'attributes': {'like_date': '2019-09-18 07:41:14'},\n",
            "  'directed': True,\n",
            "  'e_type': 'liked',\n",
            "  'from_id': '30',\n",
            "  'from_type': 'Person',\n",
            "  'to_id': '197',\n",
            "  'to_type': 'Post'},\n",
            " {'attributes': {'like_date': '2018-12-16 01:10:40'},\n",
            "  'directed': True,\n",
            "  'e_type': 'liked',\n",
            "  'from_id': '30',\n",
            "  'from_type': 'Person',\n",
            "  'to_id': '24',\n",
            "  'to_type': 'Post'},\n",
            " {'attributes': {'like_date': '2021-03-29 12:22:42'},\n",
            "  'directed': True,\n",
            "  'e_type': 'liked',\n",
            "  'from_id': '30',\n",
            "  'from_type': 'Person',\n",
            "  'to_id': '953',\n",
            "  'to_type': 'Post'},\n",
            " {'attributes': {'like_date': '2020-02-13 02:41:51'},\n",
            "  'directed': True,\n",
            "  'e_type': 'liked',\n",
            "  'from_id': '30',\n",
            "  'from_type': 'Person',\n",
            "  'to_id': '751',\n",
            "  'to_type': 'Post'},\n",
            " {'attributes': {'like_date': '2019-07-16 07:25:10'},\n",
            "  'directed': True,\n",
            "  'e_type': 'liked',\n",
            "  'from_id': '30',\n",
            "  'from_type': 'Person',\n",
            "  'to_id': '840',\n",
            "  'to_type': 'Post'},\n",
            " {'attributes': {'like_date': '2019-07-25 11:46:19'},\n",
            "  'directed': True,\n",
            "  'e_type': 'liked',\n",
            "  'from_id': '30',\n",
            "  'from_type': 'Person',\n",
            "  'to_id': '345',\n",
            "  'to_type': 'Post'},\n",
            " {'attributes': {'like_date': '2021-04-13 16:28:59'},\n",
            "  'directed': True,\n",
            "  'e_type': 'liked',\n",
            "  'from_id': '30',\n",
            "  'from_type': 'Person',\n",
            "  'to_id': '317',\n",
            "  'to_type': 'Post'},\n",
            " {'attributes': {'like_date': '2020-06-24 20:13:30'},\n",
            "  'directed': True,\n",
            "  'e_type': 'liked',\n",
            "  'from_id': '30',\n",
            "  'from_type': 'Person',\n",
            "  'to_id': '881',\n",
            "  'to_type': 'Post'},\n",
            " {'attributes': {'like_date': '2021-06-18 06:47:07'},\n",
            "  'directed': True,\n",
            "  'e_type': 'liked',\n",
            "  'from_id': '30',\n",
            "  'from_type': 'Person',\n",
            "  'to_id': '299',\n",
            "  'to_type': 'Post'},\n",
            " {'attributes': {'sent_date': '2018-11-10 00:18:59', 'to_person': '48'},\n",
            "  'directed': True,\n",
            "  'e_type': 'sent_message',\n",
            "  'from_id': '30',\n",
            "  'from_type': 'Person',\n",
            "  'to_id': '985',\n",
            "  'to_type': 'Message'},\n",
            " {'attributes': {'sent_date': '2019-03-07 04:10:31', 'to_person': '64'},\n",
            "  'directed': True,\n",
            "  'e_type': 'sent_message',\n",
            "  'from_id': '30',\n",
            "  'from_type': 'Person',\n",
            "  'to_id': '822',\n",
            "  'to_type': 'Message'},\n",
            " {'attributes': {'sent_date': '2019-07-09 22:30:33', 'to_person': '93'},\n",
            "  'directed': True,\n",
            "  'e_type': 'sent_message',\n",
            "  'from_id': '30',\n",
            "  'from_type': 'Person',\n",
            "  'to_id': '75',\n",
            "  'to_type': 'Message'},\n",
            " {'attributes': {'sent_date': '2021-06-06 13:56:29', 'to_person': '60'},\n",
            "  'directed': True,\n",
            "  'e_type': 'sent_message',\n",
            "  'from_id': '30',\n",
            "  'from_type': 'Person',\n",
            "  'to_id': '452',\n",
            "  'to_type': 'Message'},\n",
            " {'attributes': {'sent_date': '2020-10-26 07:57:55', 'to_person': '28'},\n",
            "  'directed': True,\n",
            "  'e_type': 'sent_message',\n",
            "  'from_id': '30',\n",
            "  'from_type': 'Person',\n",
            "  'to_id': '213',\n",
            "  'to_type': 'Message'},\n",
            " {'attributes': {'sent_date': '2018-10-01 23:58:32', 'to_person': '96'},\n",
            "  'directed': True,\n",
            "  'e_type': 'sent_message',\n",
            "  'from_id': '30',\n",
            "  'from_type': 'Person',\n",
            "  'to_id': '70',\n",
            "  'to_type': 'Message'},\n",
            " {'attributes': {'sent_date': '2019-08-27 23:56:24', 'to_person': '49'},\n",
            "  'directed': True,\n",
            "  'e_type': 'sent_message',\n",
            "  'from_id': '30',\n",
            "  'from_type': 'Person',\n",
            "  'to_id': '640',\n",
            "  'to_type': 'Message'},\n",
            " {'attributes': {'sent_date': '2020-10-23 19:34:14', 'to_person': '68'},\n",
            "  'directed': True,\n",
            "  'e_type': 'sent_message',\n",
            "  'from_id': '30',\n",
            "  'from_type': 'Person',\n",
            "  'to_id': '602',\n",
            "  'to_type': 'Message'},\n",
            " {'attributes': {'from_person': '55',\n",
            "                 'opened_date': '2020-04-07 02:16:43',\n",
            "                 'receive_date': '2020-04-01 02:16:43'},\n",
            "  'directed': True,\n",
            "  'e_type': 'reverse_received_message',\n",
            "  'from_id': '30',\n",
            "  'from_type': 'Person',\n",
            "  'to_id': '829',\n",
            "  'to_type': 'Message'},\n",
            " {'attributes': {'from_person': '16',\n",
            "                 'opened_date': '2019-01-11 03:12:09',\n",
            "                 'receive_date': '2019-01-01 03:12:09'},\n",
            "  'directed': True,\n",
            "  'e_type': 'reverse_received_message',\n",
            "  'from_id': '30',\n",
            "  'from_type': 'Person',\n",
            "  'to_id': '456',\n",
            "  'to_type': 'Message'},\n",
            " {'attributes': {'from_person': '17',\n",
            "                 'opened_date': '2019-11-24 21:26:47',\n",
            "                 'receive_date': '2019-11-22 21:26:47'},\n",
            "  'directed': True,\n",
            "  'e_type': 'reverse_received_message',\n",
            "  'from_id': '30',\n",
            "  'from_type': 'Person',\n",
            "  'to_id': '289',\n",
            "  'to_type': 'Message'},\n",
            " {'attributes': {'from_person': '9',\n",
            "                 'opened_date': '2021-05-30 07:09:42',\n",
            "                 'receive_date': '2021-05-18 07:09:42'},\n",
            "  'directed': True,\n",
            "  'e_type': 'reverse_received_message',\n",
            "  'from_id': '30',\n",
            "  'from_type': 'Person',\n",
            "  'to_id': '596',\n",
            "  'to_type': 'Message'},\n",
            " {'attributes': {'from_person': '23',\n",
            "                 'opened_date': '2021-01-22 23:41:09',\n",
            "                 'receive_date': '2020-12-30 23:41:09'},\n",
            "  'directed': True,\n",
            "  'e_type': 'reverse_received_message',\n",
            "  'from_id': '30',\n",
            "  'from_type': 'Person',\n",
            "  'to_id': '491',\n",
            "  'to_type': 'Message'}]\n"
          ]
        }
      ]
    },
    {
      "cell_type": "markdown",
      "source": [
        "# Dataframe"
      ],
      "metadata": {
        "id": "fJngC0rtpNiq"
      }
    },
    {
      "cell_type": "code",
      "source": [
        "df1 = conn.getVertexDataframe(\"Hastag\")\n",
        "print(df1)"
      ],
      "metadata": {
        "colab": {
          "base_uri": "https://localhost:8080/"
        },
        "id": "PkS6ENMiopsC",
        "outputId": "508e1be3-d80a-42af-d40f-d3918662aeb5"
      },
      "execution_count": 63,
      "outputs": [
        {
          "output_type": "stream",
          "name": "stdout",
          "text": [
            "                v_id              tag\n",
            "0       User-centric     User-centric\n",
            "1        even-keeled      even-keeled\n",
            "2         methodical       methodical\n",
            "3          Versatile        Versatile\n",
            "4          workforce        workforce\n",
            "..               ...              ...\n",
            "303  disintermediate  disintermediate\n",
            "304   infrastructure   infrastructure\n",
            "305   implementation   implementation\n",
            "306         intranet         intranet\n",
            "307  standardization  standardization\n",
            "\n",
            "[308 rows x 2 columns]\n"
          ]
        }
      ]
    },
    {
      "cell_type": "code",
      "source": [
        "df2 = conn.getVertexDataframeById(\"Post\",\"45\")\n",
        "print(df2)"
      ],
      "metadata": {
        "colab": {
          "base_uri": "https://localhost:8080/"
        },
        "id": "gB9yh3CvpgRg",
        "outputId": "8551a08b-29b0-4f0f-9995-c70c8cb97b99"
      },
      "execution_count": 64,
      "outputs": [
        {
          "output_type": "stream",
          "name": "stdout",
          "text": [
            "  v_id  id  ...          posted_date deleted\n",
            "0   45  45  ...  2019-05-30 13:14:33   False\n",
            "\n",
            "[1 rows x 5 columns]\n"
          ]
        }
      ]
    },
    {
      "cell_type": "code",
      "source": [
        "df3 = conn.getVertexDataframeById(\"Post\",[\"45\",\"344\"])\n",
        "print(df3)"
      ],
      "metadata": {
        "colab": {
          "base_uri": "https://localhost:8080/"
        },
        "id": "TEWrEtrepxoS",
        "outputId": "a8119bd1-7387-4360-98cd-fed88f68e49d"
      },
      "execution_count": 65,
      "outputs": [
        {
          "output_type": "stream",
          "name": "stdout",
          "text": [
            "  v_id   id  ...          posted_date deleted\n",
            "0   45   45  ...  2019-05-30 13:14:33   False\n",
            "1  344  344  ...  2019-02-10 11:18:04   False\n",
            "\n",
            "[2 rows x 5 columns]\n"
          ]
        }
      ]
    },
    {
      "cell_type": "code",
      "source": [
        "df4 = conn.getEdgesDataframe(\"Post\", \"344\")\n",
        "print(df4)"
      ],
      "metadata": {
        "colab": {
          "base_uri": "https://localhost:8080/"
        },
        "id": "KFzU5hHdqL8g",
        "outputId": "55e288fe-c6d0-4df6-cd08-1ac8a1e69f26"
      },
      "execution_count": 68,
      "outputs": [
        {
          "output_type": "stream",
          "name": "stdout",
          "text": [
            "  from_type from_id  ...            post_date            like_date\n",
            "0      Post     344  ...  2019-02-10 11:18:04                  NaN\n",
            "1      Post     344  ...                  NaN  2021-05-08 21:31:39\n",
            "2      Post     344  ...                  NaN  2018-11-01 23:29:51\n",
            "3      Post     344  ...                  NaN  2018-11-02 05:14:36\n",
            "4      Post     344  ...                  NaN  2018-12-30 16:54:19\n",
            "5      Post     344  ...                  NaN                  NaN\n",
            "6      Post     344  ...                  NaN                  NaN\n",
            "\n",
            "[7 rows x 6 columns]\n"
          ]
        }
      ]
    },
    {
      "cell_type": "code",
      "source": [
        "df5= conn.getEdgesDataframe(\"Post\", \"344\", limit=3)\n",
        "print(df5)"
      ],
      "metadata": {
        "colab": {
          "base_uri": "https://localhost:8080/"
        },
        "id": "qVuNN4WUqbQD",
        "outputId": "4a366efa-69aa-47e8-f093-c6e1d2aa698b"
      },
      "execution_count": 70,
      "outputs": [
        {
          "output_type": "stream",
          "name": "stdout",
          "text": [
            "  from_type from_id to_type to_id            post_date            like_date\n",
            "0      Post     344  Person    92  2019-02-10 11:18:04                  NaN\n",
            "1      Post     344  Person    69                  NaN  2021-05-08 21:31:39\n",
            "2      Post     344  Person    86                  NaN  2018-11-01 23:29:51\n"
          ]
        }
      ]
    },
    {
      "cell_type": "code",
      "source": [
        ""
      ],
      "metadata": {
        "id": "Gzrs2Ky3qkK5"
      },
      "execution_count": null,
      "outputs": []
    },
    {
      "cell_type": "markdown",
      "source": [
        "# Queries"
      ],
      "metadata": {
        "id": "4c2ok7TSrCJY"
      }
    },
    {
      "cell_type": "markdown",
      "source": [
        "All Hashtags from all Posts from Input User "
      ],
      "metadata": {
        "id": "ni3_6lOxrQSQ"
      }
    },
    {
      "cell_type": "code",
      "source": [
        "results = conn.gsql('''\n",
        "  USE GRAPH MyGraph_1\n",
        "  CREATE QUERY hashtags_from_person(VERTEX<Person> inPer) FOR GRAPH MyGraph_1 SYNTAX v2{\n",
        "  seed = {inPer};\n",
        "  tag= SELECT t FROM seed:s - (posted>) - Post:p - (has_tag>) - Hastag:t;\n",
        "  PRINT tag;\n",
        "  }\n",
        "'''    \n",
        ")\n",
        "pp.pprint(results)"
      ],
      "metadata": {
        "colab": {
          "base_uri": "https://localhost:8080/"
        },
        "id": "edwa9NRNrEJM",
        "outputId": "79d41a61-1f2e-4cad-faba-e1eafa66007f"
      },
      "execution_count": 75,
      "outputs": [
        {
          "output_type": "stream",
          "name": "stdout",
          "text": [
            "\"Using graph 'MyGraph_1'\\nSuccessfully created queries: [hashtags_from_person].\"\n"
          ]
        }
      ]
    },
    {
      "cell_type": "code",
      "source": [
        "conn.gsql(''' \n",
        "  INSTALL QUERY hashtags_from_person\n",
        "''', options=[])"
      ],
      "metadata": {
        "colab": {
          "base_uri": "https://localhost:8080/",
          "height": 52
        },
        "id": "BOolPbs-tNKD",
        "outputId": "7788efcd-caca-4476-cfef-8c5e76575505"
      },
      "execution_count": 76,
      "outputs": [
        {
          "output_type": "execute_result",
          "data": {
            "application/vnd.google.colaboratory.intrinsic+json": {
              "type": "string"
            },
            "text/plain": [
              "'Start installing queries, about 1 minute ...\\nhashtags_from_person query: curl -X GET \\'https://127.0.0.1:9000/query/MyGraph_1/hashtags_from_person?inPer=VALUE\\'. Add -H \"Authorization: Bearer TOKEN\" if authentication is enabled.\\nSelect \\'m1\\' as compile server, now connecting ...\\nNode \\'m1\\' is prepared as compile server.\\n\\nQuery installation finished.'"
            ]
          },
          "metadata": {},
          "execution_count": 76
        }
      ]
    },
    {
      "cell_type": "code",
      "source": [
        "results = conn.runInstalledQuery(\"hashtags_from_person\", params={\"inPer\":\"30\"})\n",
        "pp.pprint(results) "
      ],
      "metadata": {
        "colab": {
          "base_uri": "https://localhost:8080/"
        },
        "id": "HBDfxaFRuUj-",
        "outputId": "1f72b8f0-e0fc-4d40-fdde-7600b7d7a41b"
      },
      "execution_count": 82,
      "outputs": [
        {
          "output_type": "stream",
          "name": "stdout",
          "text": [
            "[{'tag': [{'attributes': {'tag': 'Fundamental'},\n",
            "           'v_id': 'Fundamental',\n",
            "           'v_type': 'Hastag'},\n",
            "          {'attributes': {'tag': 'time-frame'},\n",
            "           'v_id': 'time-frame',\n",
            "           'v_type': 'Hastag'},\n",
            "          {'attributes': {'tag': 'full-range'},\n",
            "           'v_id': 'full-range',\n",
            "           'v_type': 'Hastag'},\n",
            "          {'attributes': {'tag': 'Implemented'},\n",
            "           'v_id': 'Implemented',\n",
            "           'v_type': 'Hastag'},\n",
            "          {'attributes': {'tag': 'bottom-line'},\n",
            "           'v_id': 'bottom-line',\n",
            "           'v_type': 'Hastag'},\n",
            "          {'attributes': {'tag': 'Persistent'},\n",
            "           'v_id': 'Persistent',\n",
            "           'v_type': 'Hastag'},\n",
            "          {'attributes': {'tag': 'definition'},\n",
            "           'v_id': 'definition',\n",
            "           'v_type': 'Hastag'},\n",
            "          {'attributes': {'tag': 'content-based'},\n",
            "           'v_id': 'content-based',\n",
            "           'v_type': 'Hastag'},\n",
            "          {'attributes': {'tag': 'zero administration'},\n",
            "           'v_id': 'zero administration',\n",
            "           'v_type': 'Hastag'},\n",
            "          {'attributes': {'tag': 'Programmable'},\n",
            "           'v_id': 'Programmable',\n",
            "           'v_type': 'Hastag'},\n",
            "          {'attributes': {'tag': 'software'},\n",
            "           'v_id': 'software',\n",
            "           'v_type': 'Hastag'},\n",
            "          {'attributes': {'tag': 'policy'},\n",
            "           'v_id': 'policy',\n",
            "           'v_type': 'Hastag'},\n",
            "          {'attributes': {'tag': 'impactful'},\n",
            "           'v_id': 'impactful',\n",
            "           'v_type': 'Hastag'},\n",
            "          {'attributes': {'tag': 'mission-critical'},\n",
            "           'v_id': 'mission-critical',\n",
            "           'v_type': 'Hastag'},\n",
            "          {'attributes': {'tag': 'uniform'},\n",
            "           'v_id': 'uniform',\n",
            "           'v_type': 'Hastag'},\n",
            "          {'attributes': {'tag': 'optimizing'},\n",
            "           'v_id': 'optimizing',\n",
            "           'v_type': 'Hastag'},\n",
            "          {'attributes': {'tag': 'multi-state'},\n",
            "           'v_id': 'multi-state',\n",
            "           'v_type': 'Hastag'},\n",
            "          {'attributes': {'tag': 'value-added'},\n",
            "           'v_id': 'value-added',\n",
            "           'v_type': 'Hastag'},\n",
            "          {'attributes': {'tag': 'static'},\n",
            "           'v_id': 'static',\n",
            "           'v_type': 'Hastag'},\n",
            "          {'attributes': {'tag': 'user-facing'},\n",
            "           'v_id': 'user-facing',\n",
            "           'v_type': 'Hastag'},\n",
            "          {'attributes': {'tag': 'concept'},\n",
            "           'v_id': 'concept',\n",
            "           'v_type': 'Hastag'},\n",
            "          {'attributes': {'tag': 'secondary'},\n",
            "           'v_id': 'secondary',\n",
            "           'v_type': 'Hastag'},\n",
            "          {'attributes': {'tag': 'migration'},\n",
            "           'v_id': 'migration',\n",
            "           'v_type': 'Hastag'},\n",
            "          {'attributes': {'tag': 'interface'},\n",
            "           'v_id': 'interface',\n",
            "           'v_type': 'Hastag'},\n",
            "          {'attributes': {'tag': 'Multi-channelled'},\n",
            "           'v_id': 'Multi-channelled',\n",
            "           'v_type': 'Hastag'}]}]\n"
          ]
        }
      ]
    },
    {
      "cell_type": "code",
      "source": [
        ""
      ],
      "metadata": {
        "id": "PxRfmXJou_aK"
      },
      "execution_count": null,
      "outputs": []
    }
  ]
}