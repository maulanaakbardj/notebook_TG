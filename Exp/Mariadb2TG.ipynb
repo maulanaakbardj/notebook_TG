{
 "cells": [
  {
   "cell_type": "code",
   "execution_count": 8,
   "metadata": {},
   "outputs": [],
   "source": [
    "import pandas as pd"
   ]
  },
  {
   "cell_type": "code",
   "execution_count": 9,
   "metadata": {},
   "outputs": [],
   "source": [
    "def query_mariadb(query):\n",
    "    import pandas as pd\n",
    "    import pymysql\n",
    "    import mariadb\n",
    " \n",
    "    # Connect to MariaDB \n",
    "    dbconn = mariadb.connect(\n",
    "        user=\"root\",\n",
    "        password=\"pass123\",\n",
    "        host=\"127.0.0.1\",\n",
    "        port=3307,\n",
    "        database=\"test\"\n",
    "    )\n",
    "    \n",
    "    # mariaDB Query to Pandas DataFrame\n",
    "    query_result= pd.read_sql(query,dbconn)\n",
    "    dbconn.close()\n",
    " \n",
    "    return query_result"
   ]
  },
  {
   "cell_type": "code",
   "execution_count": 13,
   "metadata": {},
   "outputs": [
    {
     "data": {
      "text/html": [
       "<div>\n",
       "<style scoped>\n",
       "    .dataframe tbody tr th:only-of-type {\n",
       "        vertical-align: middle;\n",
       "    }\n",
       "\n",
       "    .dataframe tbody tr th {\n",
       "        vertical-align: top;\n",
       "    }\n",
       "\n",
       "    .dataframe thead th {\n",
       "        text-align: right;\n",
       "    }\n",
       "</style>\n",
       "<table border=\"1\" class=\"dataframe\">\n",
       "  <thead>\n",
       "    <tr style=\"text-align: right;\">\n",
       "      <th></th>\n",
       "      <th>ID</th>\n",
       "      <th>Nama</th>\n",
       "      <th>email</th>\n",
       "      <th>mobile</th>\n",
       "      <th>credit</th>\n",
       "    </tr>\n",
       "  </thead>\n",
       "  <tbody>\n",
       "    <tr>\n",
       "      <th>0</th>\n",
       "      <td>1</td>\n",
       "      <td>Marvin Geistmann</td>\n",
       "      <td>mgeistmann0@accuweather.co</td>\n",
       "      <td>087808243908</td>\n",
       "      <td>1234 4214 1521 5132</td>\n",
       "    </tr>\n",
       "    <tr>\n",
       "      <th>1</th>\n",
       "      <td>2</td>\n",
       "      <td>Hermia Chapleo</td>\n",
       "      <td>hchapleo1@macromedia.com</td>\n",
       "      <td>087808243909</td>\n",
       "      <td>1234 4214 1521 5133</td>\n",
       "    </tr>\n",
       "    <tr>\n",
       "      <th>2</th>\n",
       "      <td>3</td>\n",
       "      <td>Laird Vowels</td>\n",
       "      <td>lvowels2@ehow.com</td>\n",
       "      <td>087808243910</td>\n",
       "      <td>1235 4214 1521 5134</td>\n",
       "    </tr>\n",
       "    <tr>\n",
       "      <th>3</th>\n",
       "      <td>4</td>\n",
       "      <td>Deeanne Adelsberg</td>\n",
       "      <td>dadelsberg3@telegraph.co.uk</td>\n",
       "      <td>087808243911</td>\n",
       "      <td>1235 4214 1521 5135</td>\n",
       "    </tr>\n",
       "  </tbody>\n",
       "</table>\n",
       "</div>"
      ],
      "text/plain": [
       "   ID               Nama                        email        mobile  \\\n",
       "0   1   Marvin Geistmann   mgeistmann0@accuweather.co  087808243908   \n",
       "1   2     Hermia Chapleo     hchapleo1@macromedia.com  087808243909   \n",
       "2   3       Laird Vowels            lvowels2@ehow.com  087808243910   \n",
       "3   4  Deeanne Adelsberg  dadelsberg3@telegraph.co.uk  087808243911   \n",
       "\n",
       "                credit  \n",
       "0  1234 4214 1521 5132  \n",
       "1  1234 4214 1521 5133  \n",
       "2  1235 4214 1521 5134  \n",
       "3  1235 4214 1521 5135  "
      ]
     },
     "execution_count": 13,
     "metadata": {},
     "output_type": "execute_result"
    }
   ],
   "source": [
    "sql = \"SELECT * FROM person\"\n",
    "df = query_mariadb(sql)\n",
    "df"
   ]
  },
  {
   "cell_type": "code",
   "execution_count": 16,
   "metadata": {},
   "outputs": [],
   "source": [
    "def mask_email(Var):\n",
    "    mail=Var.split(\"@\")[0]\n",
    "    n=len(mail)\n",
    "    alist=list(mail)\n",
    "    alist[1:int(n)-1]='*'*int(n-2)\n",
    "    output=\"\".join(alist)+\"@\"+Var.split(\"@\")[1]\n",
    "    return output"
   ]
  },
  {
   "cell_type": "code",
   "execution_count": 21,
   "metadata": {},
   "outputs": [],
   "source": [
    "def mask_mobile(Var):\n",
    "    Var=str(Var)\n",
    "    n=len(Var)\n",
    "    alist=list(Var)\n",
    "    alist[2:int(n)-2]='*'*int(n-4)\n",
    "    output=\"\".join(alist)\n",
    "    return output"
   ]
  },
  {
   "cell_type": "code",
   "execution_count": 22,
   "metadata": {},
   "outputs": [],
   "source": [
    "import re\n",
    "def mask_credit(Var):\n",
    "    output = re.sub('\\d', '*', Var[:-4]) + Var[-4:]\n",
    "    return output"
   ]
  },
  {
   "cell_type": "code",
   "execution_count": 23,
   "metadata": {},
   "outputs": [
    {
     "data": {
      "text/html": [
       "<div>\n",
       "<style scoped>\n",
       "    .dataframe tbody tr th:only-of-type {\n",
       "        vertical-align: middle;\n",
       "    }\n",
       "\n",
       "    .dataframe tbody tr th {\n",
       "        vertical-align: top;\n",
       "    }\n",
       "\n",
       "    .dataframe thead th {\n",
       "        text-align: right;\n",
       "    }\n",
       "</style>\n",
       "<table border=\"1\" class=\"dataframe\">\n",
       "  <thead>\n",
       "    <tr style=\"text-align: right;\">\n",
       "      <th></th>\n",
       "      <th>ID</th>\n",
       "      <th>Nama</th>\n",
       "      <th>email</th>\n",
       "      <th>mobile</th>\n",
       "      <th>credit</th>\n",
       "    </tr>\n",
       "  </thead>\n",
       "  <tbody>\n",
       "    <tr>\n",
       "      <th>0</th>\n",
       "      <td>1</td>\n",
       "      <td>Marvin Geistmann</td>\n",
       "      <td>m*********0@accuweather.co</td>\n",
       "      <td>087808243908</td>\n",
       "      <td>1234 4214 1521 5132</td>\n",
       "    </tr>\n",
       "    <tr>\n",
       "      <th>1</th>\n",
       "      <td>2</td>\n",
       "      <td>Hermia Chapleo</td>\n",
       "      <td>h*******1@macromedia.com</td>\n",
       "      <td>087808243909</td>\n",
       "      <td>1234 4214 1521 5133</td>\n",
       "    </tr>\n",
       "    <tr>\n",
       "      <th>2</th>\n",
       "      <td>3</td>\n",
       "      <td>Laird Vowels</td>\n",
       "      <td>l******2@ehow.com</td>\n",
       "      <td>087808243910</td>\n",
       "      <td>1235 4214 1521 5134</td>\n",
       "    </tr>\n",
       "    <tr>\n",
       "      <th>3</th>\n",
       "      <td>4</td>\n",
       "      <td>Deeanne Adelsberg</td>\n",
       "      <td>d*********3@telegraph.co.uk</td>\n",
       "      <td>087808243911</td>\n",
       "      <td>1235 4214 1521 5135</td>\n",
       "    </tr>\n",
       "  </tbody>\n",
       "</table>\n",
       "</div>"
      ],
      "text/plain": [
       "   ID               Nama                        email        mobile  \\\n",
       "0   1   Marvin Geistmann   m*********0@accuweather.co  087808243908   \n",
       "1   2     Hermia Chapleo     h*******1@macromedia.com  087808243909   \n",
       "2   3       Laird Vowels            l******2@ehow.com  087808243910   \n",
       "3   4  Deeanne Adelsberg  d*********3@telegraph.co.uk  087808243911   \n",
       "\n",
       "                credit  \n",
       "0  1234 4214 1521 5132  \n",
       "1  1234 4214 1521 5133  \n",
       "2  1235 4214 1521 5134  \n",
       "3  1235 4214 1521 5135  "
      ]
     },
     "execution_count": 23,
     "metadata": {},
     "output_type": "execute_result"
    }
   ],
   "source": [
    "df['email'] = df.email.apply(mask_email)\n",
    "df"
   ]
  },
  {
   "cell_type": "code",
   "execution_count": 24,
   "metadata": {},
   "outputs": [
    {
     "data": {
      "text/html": [
       "<div>\n",
       "<style scoped>\n",
       "    .dataframe tbody tr th:only-of-type {\n",
       "        vertical-align: middle;\n",
       "    }\n",
       "\n",
       "    .dataframe tbody tr th {\n",
       "        vertical-align: top;\n",
       "    }\n",
       "\n",
       "    .dataframe thead th {\n",
       "        text-align: right;\n",
       "    }\n",
       "</style>\n",
       "<table border=\"1\" class=\"dataframe\">\n",
       "  <thead>\n",
       "    <tr style=\"text-align: right;\">\n",
       "      <th></th>\n",
       "      <th>ID</th>\n",
       "      <th>Nama</th>\n",
       "      <th>email</th>\n",
       "      <th>mobile</th>\n",
       "      <th>credit</th>\n",
       "    </tr>\n",
       "  </thead>\n",
       "  <tbody>\n",
       "    <tr>\n",
       "      <th>0</th>\n",
       "      <td>1</td>\n",
       "      <td>Marvin Geistmann</td>\n",
       "      <td>m*********0@accuweather.co</td>\n",
       "      <td>08********08</td>\n",
       "      <td>1234 4214 1521 5132</td>\n",
       "    </tr>\n",
       "    <tr>\n",
       "      <th>1</th>\n",
       "      <td>2</td>\n",
       "      <td>Hermia Chapleo</td>\n",
       "      <td>h*******1@macromedia.com</td>\n",
       "      <td>08********09</td>\n",
       "      <td>1234 4214 1521 5133</td>\n",
       "    </tr>\n",
       "    <tr>\n",
       "      <th>2</th>\n",
       "      <td>3</td>\n",
       "      <td>Laird Vowels</td>\n",
       "      <td>l******2@ehow.com</td>\n",
       "      <td>08********10</td>\n",
       "      <td>1235 4214 1521 5134</td>\n",
       "    </tr>\n",
       "    <tr>\n",
       "      <th>3</th>\n",
       "      <td>4</td>\n",
       "      <td>Deeanne Adelsberg</td>\n",
       "      <td>d*********3@telegraph.co.uk</td>\n",
       "      <td>08********11</td>\n",
       "      <td>1235 4214 1521 5135</td>\n",
       "    </tr>\n",
       "  </tbody>\n",
       "</table>\n",
       "</div>"
      ],
      "text/plain": [
       "   ID               Nama                        email        mobile  \\\n",
       "0   1   Marvin Geistmann   m*********0@accuweather.co  08********08   \n",
       "1   2     Hermia Chapleo     h*******1@macromedia.com  08********09   \n",
       "2   3       Laird Vowels            l******2@ehow.com  08********10   \n",
       "3   4  Deeanne Adelsberg  d*********3@telegraph.co.uk  08********11   \n",
       "\n",
       "                credit  \n",
       "0  1234 4214 1521 5132  \n",
       "1  1234 4214 1521 5133  \n",
       "2  1235 4214 1521 5134  \n",
       "3  1235 4214 1521 5135  "
      ]
     },
     "execution_count": 24,
     "metadata": {},
     "output_type": "execute_result"
    }
   ],
   "source": [
    "df['mobile'] = df.mobile.apply(mask_mobile)\n",
    "df"
   ]
  },
  {
   "cell_type": "code",
   "execution_count": 25,
   "metadata": {},
   "outputs": [
    {
     "data": {
      "text/html": [
       "<div>\n",
       "<style scoped>\n",
       "    .dataframe tbody tr th:only-of-type {\n",
       "        vertical-align: middle;\n",
       "    }\n",
       "\n",
       "    .dataframe tbody tr th {\n",
       "        vertical-align: top;\n",
       "    }\n",
       "\n",
       "    .dataframe thead th {\n",
       "        text-align: right;\n",
       "    }\n",
       "</style>\n",
       "<table border=\"1\" class=\"dataframe\">\n",
       "  <thead>\n",
       "    <tr style=\"text-align: right;\">\n",
       "      <th></th>\n",
       "      <th>ID</th>\n",
       "      <th>Nama</th>\n",
       "      <th>email</th>\n",
       "      <th>mobile</th>\n",
       "      <th>credit</th>\n",
       "    </tr>\n",
       "  </thead>\n",
       "  <tbody>\n",
       "    <tr>\n",
       "      <th>0</th>\n",
       "      <td>1</td>\n",
       "      <td>Marvin Geistmann</td>\n",
       "      <td>m*********0@accuweather.co</td>\n",
       "      <td>08********08</td>\n",
       "      <td>**** **** **** 5132</td>\n",
       "    </tr>\n",
       "    <tr>\n",
       "      <th>1</th>\n",
       "      <td>2</td>\n",
       "      <td>Hermia Chapleo</td>\n",
       "      <td>h*******1@macromedia.com</td>\n",
       "      <td>08********09</td>\n",
       "      <td>**** **** **** 5133</td>\n",
       "    </tr>\n",
       "    <tr>\n",
       "      <th>2</th>\n",
       "      <td>3</td>\n",
       "      <td>Laird Vowels</td>\n",
       "      <td>l******2@ehow.com</td>\n",
       "      <td>08********10</td>\n",
       "      <td>**** **** **** 5134</td>\n",
       "    </tr>\n",
       "    <tr>\n",
       "      <th>3</th>\n",
       "      <td>4</td>\n",
       "      <td>Deeanne Adelsberg</td>\n",
       "      <td>d*********3@telegraph.co.uk</td>\n",
       "      <td>08********11</td>\n",
       "      <td>**** **** **** 5135</td>\n",
       "    </tr>\n",
       "  </tbody>\n",
       "</table>\n",
       "</div>"
      ],
      "text/plain": [
       "   ID               Nama                        email        mobile  \\\n",
       "0   1   Marvin Geistmann   m*********0@accuweather.co  08********08   \n",
       "1   2     Hermia Chapleo     h*******1@macromedia.com  08********09   \n",
       "2   3       Laird Vowels            l******2@ehow.com  08********10   \n",
       "3   4  Deeanne Adelsberg  d*********3@telegraph.co.uk  08********11   \n",
       "\n",
       "                credit  \n",
       "0  **** **** **** 5132  \n",
       "1  **** **** **** 5133  \n",
       "2  **** **** **** 5134  \n",
       "3  **** **** **** 5135  "
      ]
     },
     "execution_count": 25,
     "metadata": {},
     "output_type": "execute_result"
    }
   ],
   "source": [
    "df['credit'] = df.credit.apply(mask_credit)\n",
    "df"
   ]
  },
  {
   "cell_type": "code",
   "execution_count": 26,
   "metadata": {},
   "outputs": [
    {
     "name": "stdout",
     "output_type": "stream",
     "text": [
      "<class 'pandas.core.frame.DataFrame'>\n",
      "RangeIndex: 4 entries, 0 to 3\n",
      "Data columns (total 5 columns):\n",
      " #   Column  Non-Null Count  Dtype \n",
      "---  ------  --------------  ----- \n",
      " 0   ID      4 non-null      int64 \n",
      " 1   Nama    4 non-null      object\n",
      " 2   email   4 non-null      object\n",
      " 3   mobile  4 non-null      object\n",
      " 4   credit  4 non-null      object\n",
      "dtypes: int64(1), object(4)\n",
      "memory usage: 288.0+ bytes\n"
     ]
    }
   ],
   "source": [
    "df.info()"
   ]
  },
  {
   "cell_type": "code",
   "execution_count": 27,
   "metadata": {},
   "outputs": [],
   "source": [
    "import pyTigerGraph as tg"
   ]
  },
  {
   "cell_type": "code",
   "execution_count": 29,
   "metadata": {},
   "outputs": [],
   "source": [
    "conn = tg.TigerGraphConnection(host=\"https://mytg.i.tgcloud.io\", password=\"pass123\")"
   ]
  },
  {
   "cell_type": "code",
   "execution_count": 34,
   "metadata": {},
   "outputs": [
    {
     "name": "stdout",
     "output_type": "stream",
     "text": [
      "Successfully created vertex types: [test].\n"
     ]
    }
   ],
   "source": [
    "print(conn.gsql('''\n",
    "  CREATE VERTEX test(PRIMARY_ID id INT, name STRING, email STRING, mobile STRING, credit STRING) WITH primary_id_as_attribute=\"true\"\n",
    "''', options=[]))"
   ]
  },
  {
   "cell_type": "code",
   "execution_count": 35,
   "metadata": {},
   "outputs": [
    {
     "name": "stdout",
     "output_type": "stream",
     "text": [
      "The graph Mask is created.\n"
     ]
    }
   ],
   "source": [
    "print(conn.gsql('''CREATE GRAPH Mask(test)''', options=[]))"
   ]
  },
  {
   "cell_type": "code",
   "execution_count": 36,
   "metadata": {},
   "outputs": [
    {
     "name": "stdout",
     "output_type": "stream",
     "text": [
      "('ui33kogl5qgvj8k07fmf68hopgje4m0o', 1647941468, '2022-03-22 09:31:08')\n"
     ]
    }
   ],
   "source": [
    "conn.graphname = \"Mask\"\n",
    "secret = conn.createSecret()\n",
    "token = conn.getToken(secret, setToken=True)\n",
    "print(token)"
   ]
  },
  {
   "cell_type": "code",
   "execution_count": 43,
   "metadata": {},
   "outputs": [
    {
     "name": "stdout",
     "output_type": "stream",
     "text": [
      "Using graph 'Mask'\n",
      "Successfully dropped jobs on the graph 'Mask': [load_people].\n",
      "Successfully created loading jobs: [load_people].\n"
     ]
    }
   ],
   "source": [
    "results=conn.gsql('''\n",
    "  USE GRAPH Mask\n",
    "  DROP JOB load_people\n",
    "  BEGIN\n",
    "  CREATE LOADING JOB load_people FOR GRAPH Mask {\n",
    "  DEFINE FILENAME MyDataSource;\n",
    "  LOAD MyDataSource TO VERTEX test VALUES($0, $1, $2, $3, $4) USING SEPARATOR=\",\", HEADER=\"true\", EOL=\"\\\\n\";\n",
    "  }\n",
    "  END\n",
    "''', options=[])\n",
    "print(results)"
   ]
  },
  {
   "cell_type": "code",
   "execution_count": 40,
   "metadata": {},
   "outputs": [],
   "source": [
    "df.to_csv(\"mask_data.csv\", index=None)"
   ]
  },
  {
   "cell_type": "code",
   "execution_count": 45,
   "metadata": {},
   "outputs": [
    {
     "name": "stdout",
     "output_type": "stream",
     "text": [
      "[\n",
      "  {\n",
      "    \"sourceFileName\": \"Online_POST\",\n",
      "    \"statistics\": {\n",
      "      \"validLine\": 5,\n",
      "      \"rejectLine\": 0,\n",
      "      \"failedConditionLine\": 0,\n",
      "      \"notEnoughToken\": 0,\n",
      "      \"invalidJson\": 0,\n",
      "      \"oversizeToken\": 0,\n",
      "      \"vertex\": [\n",
      "        {\n",
      "          \"typeName\": \"test\",\n",
      "          \"validObject\": 4,\n",
      "          \"noIdFound\": 0,\n",
      "          \"invalidAttribute\": 1,\n",
      "          \"invalidAttributeLines\": [\n",
      "            \"1:id\"\n",
      "          ],\n",
      "          \"invalidAttributeLinesData\": [\n",
      "            \"ID,Nama,email,mobile,credit\\r\\n\"\n",
      "          ],\n",
      "          \"invalidVertexType\": 0,\n",
      "          \"invalidPrimaryId\": 1,\n",
      "          \"invalidSecondaryId\": 0,\n",
      "          \"incorrectFixedBinaryLength\": 0\n",
      "        }\n",
      "      ],\n",
      "      \"edge\": [],\n",
      "      \"deleteVertex\": [],\n",
      "      \"deleteEdge\": []\n",
      "    }\n",
      "  }\n",
      "]\n"
     ]
    }
   ],
   "source": [
    "import json\n",
    "#Load the posts file with the 'load_people' job\n",
    "people_file='mask_data.csv'\n",
    "results=conn.uploadFile(people_file, fileTag='MyDataSource', jobName='load_people')\n",
    "print(json.dumps(results,indent=2))"
   ]
  },
  {
   "cell_type": "code",
   "execution_count": null,
   "metadata": {},
   "outputs": [],
   "source": []
  }
 ],
 "metadata": {
  "hide_input": false,
  "kernelspec": {
   "display_name": "Python 3",
   "language": "python",
   "name": "python3"
  },
  "language_info": {
   "codemirror_mode": {
    "name": "ipython",
    "version": 3
   },
   "file_extension": ".py",
   "mimetype": "text/x-python",
   "name": "python",
   "nbconvert_exporter": "python",
   "pygments_lexer": "ipython3",
   "version": "3.8.5"
  },
  "toc": {
   "base_numbering": 1,
   "nav_menu": {},
   "number_sections": true,
   "sideBar": true,
   "skip_h1_title": false,
   "title_cell": "Table of Contents",
   "title_sidebar": "Contents",
   "toc_cell": false,
   "toc_position": {},
   "toc_section_display": true,
   "toc_window_display": false
  }
 },
 "nbformat": 4,
 "nbformat_minor": 4
}
