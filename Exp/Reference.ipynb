{
 "cells": [
  {
   "cell_type": "code",
   "execution_count": 1,
   "metadata": {},
   "outputs": [],
   "source": [
    "import pyTigerGraph as tg"
   ]
  },
  {
   "cell_type": "code",
   "execution_count": 2,
   "metadata": {},
   "outputs": [],
   "source": [
    "conn = tg.TigerGraphConnection(host=\"https://mytg.i.tgcloud.io\", password=\"pass123\")"
   ]
  },
  {
   "cell_type": "code",
   "execution_count": 3,
   "metadata": {},
   "outputs": [
    {
     "name": "stdout",
     "output_type": "stream",
     "text": [
      "Successfully created vertex types: [ref].\n"
     ]
    }
   ],
   "source": [
    "print(conn.gsql('''\n",
    "  CREATE VERTEX ref(PRIMARY_ID id STRING, column1 STRING, column2 STRING, column3 STRING, column4 STRING) WITH primary_id_as_attribute=\"true\"\n",
    "''', options=[]))"
   ]
  },
  {
   "cell_type": "code",
   "execution_count": 27,
   "metadata": {},
   "outputs": [],
   "source": [
    "import pandas as pd"
   ]
  },
  {
   "cell_type": "code",
   "execution_count": 28,
   "metadata": {},
   "outputs": [],
   "source": [
    "df=pd.read_csv('ref.csv', sep=';' , names =['id','column1','column2','column3','column4','column5'])"
   ]
  },
  {
   "cell_type": "code",
   "execution_count": 29,
   "metadata": {},
   "outputs": [
    {
     "data": {
      "text/html": [
       "<div>\n",
       "<style scoped>\n",
       "    .dataframe tbody tr th:only-of-type {\n",
       "        vertical-align: middle;\n",
       "    }\n",
       "\n",
       "    .dataframe tbody tr th {\n",
       "        vertical-align: top;\n",
       "    }\n",
       "\n",
       "    .dataframe thead th {\n",
       "        text-align: right;\n",
       "    }\n",
       "</style>\n",
       "<table border=\"1\" class=\"dataframe\">\n",
       "  <thead>\n",
       "    <tr style=\"text-align: right;\">\n",
       "      <th></th>\n",
       "      <th>id</th>\n",
       "      <th>column1</th>\n",
       "      <th>column2</th>\n",
       "      <th>column3</th>\n",
       "      <th>column4</th>\n",
       "      <th>column5</th>\n",
       "    </tr>\n",
       "  </thead>\n",
       "  <tbody>\n",
       "    <tr>\n",
       "      <th>0</th>\n",
       "      <td>1</td>\n",
       "      <td>a1</td>\n",
       "      <td>bbb</td>\n",
       "      <td>ccc</td>\n",
       "      <td>dd</td>\n",
       "      <td>eee</td>\n",
       "    </tr>\n",
       "    <tr>\n",
       "      <th>1</th>\n",
       "      <td>2</td>\n",
       "      <td>a2</td>\n",
       "      <td>bbb</td>\n",
       "      <td>ccc</td>\n",
       "      <td>dd</td>\n",
       "      <td>eee</td>\n",
       "    </tr>\n",
       "    <tr>\n",
       "      <th>2</th>\n",
       "      <td>3</td>\n",
       "      <td>a3</td>\n",
       "      <td>bbb</td>\n",
       "      <td>ccc</td>\n",
       "      <td>dd</td>\n",
       "      <td>eee</td>\n",
       "    </tr>\n",
       "    <tr>\n",
       "      <th>3</th>\n",
       "      <td>4</td>\n",
       "      <td>a1</td>\n",
       "      <td>bbb</td>\n",
       "      <td>ccc</td>\n",
       "      <td>dd</td>\n",
       "      <td>eee</td>\n",
       "    </tr>\n",
       "    <tr>\n",
       "      <th>4</th>\n",
       "      <td>5</td>\n",
       "      <td>a2</td>\n",
       "      <td>bbb</td>\n",
       "      <td>ccc</td>\n",
       "      <td>dd</td>\n",
       "      <td>eee</td>\n",
       "    </tr>\n",
       "    <tr>\n",
       "      <th>5</th>\n",
       "      <td>6</td>\n",
       "      <td>a3</td>\n",
       "      <td>bbb</td>\n",
       "      <td>ccc</td>\n",
       "      <td>dd</td>\n",
       "      <td>eee</td>\n",
       "    </tr>\n",
       "    <tr>\n",
       "      <th>6</th>\n",
       "      <td>7</td>\n",
       "      <td>a1</td>\n",
       "      <td>bbb</td>\n",
       "      <td>ccc</td>\n",
       "      <td>dd</td>\n",
       "      <td>eee</td>\n",
       "    </tr>\n",
       "    <tr>\n",
       "      <th>7</th>\n",
       "      <td>8</td>\n",
       "      <td>a2</td>\n",
       "      <td>bbb</td>\n",
       "      <td>ccc</td>\n",
       "      <td>dd</td>\n",
       "      <td>eee</td>\n",
       "    </tr>\n",
       "    <tr>\n",
       "      <th>8</th>\n",
       "      <td>9</td>\n",
       "      <td>a3</td>\n",
       "      <td>bbb</td>\n",
       "      <td>ccc</td>\n",
       "      <td>dd</td>\n",
       "      <td>eee</td>\n",
       "    </tr>\n",
       "    <tr>\n",
       "      <th>9</th>\n",
       "      <td>10</td>\n",
       "      <td>a1</td>\n",
       "      <td>bbb</td>\n",
       "      <td>ccc</td>\n",
       "      <td>dd</td>\n",
       "      <td>eee</td>\n",
       "    </tr>\n",
       "    <tr>\n",
       "      <th>10</th>\n",
       "      <td>11</td>\n",
       "      <td>a2</td>\n",
       "      <td>bbb</td>\n",
       "      <td>ccc</td>\n",
       "      <td>dd</td>\n",
       "      <td>eee</td>\n",
       "    </tr>\n",
       "    <tr>\n",
       "      <th>11</th>\n",
       "      <td>12</td>\n",
       "      <td>a3</td>\n",
       "      <td>bbb</td>\n",
       "      <td>ccc</td>\n",
       "      <td>dd</td>\n",
       "      <td>eee</td>\n",
       "    </tr>\n",
       "  </tbody>\n",
       "</table>\n",
       "</div>"
      ],
      "text/plain": [
       "    id column1 column2 column3 column4 column5\n",
       "0    1      a1     bbb     ccc      dd     eee\n",
       "1    2      a2     bbb     ccc      dd     eee\n",
       "2    3      a3     bbb     ccc      dd     eee\n",
       "3    4      a1     bbb     ccc      dd     eee\n",
       "4    5      a2     bbb     ccc      dd     eee\n",
       "5    6      a3     bbb     ccc      dd     eee\n",
       "6    7      a1     bbb     ccc      dd     eee\n",
       "7    8      a2     bbb     ccc      dd     eee\n",
       "8    9      a3     bbb     ccc      dd     eee\n",
       "9   10      a1     bbb     ccc      dd     eee\n",
       "10  11      a2     bbb     ccc      dd     eee\n",
       "11  12      a3     bbb     ccc      dd     eee"
      ]
     },
     "execution_count": 29,
     "metadata": {},
     "output_type": "execute_result"
    }
   ],
   "source": [
    "df"
   ]
  },
  {
   "cell_type": "code",
   "execution_count": 19,
   "metadata": {},
   "outputs": [
    {
     "name": "stdout",
     "output_type": "stream",
     "text": [
      "<class 'pandas.core.frame.DataFrame'>\n",
      "RangeIndex: 12 entries, 0 to 11\n",
      "Data columns (total 5 columns):\n",
      " #   Column   Non-Null Count  Dtype \n",
      "---  ------   --------------  ----- \n",
      " 0   id       12 non-null     object\n",
      " 1   column1  12 non-null     object\n",
      " 2   column2  12 non-null     object\n",
      " 3   column3  12 non-null     object\n",
      " 4   column4  12 non-null     object\n",
      "dtypes: object(5)\n",
      "memory usage: 608.0+ bytes\n"
     ]
    }
   ],
   "source": [
    "df.info()"
   ]
  },
  {
   "cell_type": "code",
   "execution_count": 9,
   "metadata": {},
   "outputs": [
    {
     "name": "stdout",
     "output_type": "stream",
     "text": [
      "The graph Ref is created.\n"
     ]
    }
   ],
   "source": [
    "print(conn.gsql('''CREATE GRAPH Ref(ref)''', options=[]))"
   ]
  },
  {
   "cell_type": "code",
   "execution_count": 10,
   "metadata": {},
   "outputs": [
    {
     "name": "stdout",
     "output_type": "stream",
     "text": [
      "('0p7ecgo5c8b1kk5uisdueo219fj09iis', 1647943031, '2022-03-22 09:57:11')\n"
     ]
    }
   ],
   "source": [
    "conn.graphname = \"Ref\"\n",
    "secret = conn.createSecret()\n",
    "token = conn.getToken(secret, setToken=True)\n",
    "print(token)"
   ]
  },
  {
   "cell_type": "code",
   "execution_count": 25,
   "metadata": {},
   "outputs": [
    {
     "name": "stdout",
     "output_type": "stream",
     "text": [
      "Using graph 'Ref'\n",
      "Successfully dropped jobs on the graph 'Ref': [load_ref].\n",
      "Successfully created loading jobs: [load_ref].\n"
     ]
    }
   ],
   "source": [
    "results=conn.gsql('''\n",
    "  USE GRAPH Ref\n",
    "  DROP JOB load_ref\n",
    "  BEGIN\n",
    "  CREATE LOADING JOB load_ref FOR GRAPH Ref {\n",
    "  DEFINE FILENAME MyDataSource;\n",
    "  LOAD MyDataSource TO VERTEX ref VALUES($0, $1, $2, $3, $4) USING SEPARATOR=\",\", HEADER=\"true\", EOL=\"\\\\n\";\n",
    "  }\n",
    "  END\n",
    "''', options=[])\n",
    "print(results)"
   ]
  },
  {
   "cell_type": "code",
   "execution_count": 30,
   "metadata": {},
   "outputs": [],
   "source": [
    "df.to_csv(\"ref3.csv\", index=None)"
   ]
  },
  {
   "cell_type": "code",
   "execution_count": 26,
   "metadata": {},
   "outputs": [
    {
     "name": "stdout",
     "output_type": "stream",
     "text": [
      "[\n",
      "  {\n",
      "    \"sourceFileName\": \"Online_POST\",\n",
      "    \"statistics\": {\n",
      "      \"validLine\": 13,\n",
      "      \"rejectLine\": 0,\n",
      "      \"failedConditionLine\": 0,\n",
      "      \"notEnoughToken\": 0,\n",
      "      \"invalidJson\": 0,\n",
      "      \"oversizeToken\": 0,\n",
      "      \"vertex\": [\n",
      "        {\n",
      "          \"typeName\": \"ref\",\n",
      "          \"validObject\": 13,\n",
      "          \"noIdFound\": 0,\n",
      "          \"invalidAttribute\": 0,\n",
      "          \"invalidVertexType\": 0,\n",
      "          \"invalidPrimaryId\": 0,\n",
      "          \"invalidSecondaryId\": 0,\n",
      "          \"incorrectFixedBinaryLength\": 0\n",
      "        }\n",
      "      ],\n",
      "      \"edge\": [],\n",
      "      \"deleteVertex\": [],\n",
      "      \"deleteEdge\": []\n",
      "    }\n",
      "  }\n",
      "]\n"
     ]
    }
   ],
   "source": [
    "import json\n",
    "#Load the posts file with the 'load_people' job\n",
    "file='ref2.csv'\n",
    "results=conn.uploadFile(file, fileTag='MyDataSource', jobName='load_ref')\n",
    "print(json.dumps(results,indent=2))"
   ]
  },
  {
   "cell_type": "code",
   "execution_count": null,
   "metadata": {},
   "outputs": [],
   "source": []
  }
 ],
 "metadata": {
  "hide_input": false,
  "kernelspec": {
   "display_name": "Python 3",
   "language": "python",
   "name": "python3"
  },
  "language_info": {
   "codemirror_mode": {
    "name": "ipython",
    "version": 3
   },
   "file_extension": ".py",
   "mimetype": "text/x-python",
   "name": "python",
   "nbconvert_exporter": "python",
   "pygments_lexer": "ipython3",
   "version": "3.8.5"
  },
  "toc": {
   "base_numbering": 1,
   "nav_menu": {},
   "number_sections": true,
   "sideBar": true,
   "skip_h1_title": false,
   "title_cell": "Table of Contents",
   "title_sidebar": "Contents",
   "toc_cell": false,
   "toc_position": {},
   "toc_section_display": true,
   "toc_window_display": false
  }
 },
 "nbformat": 4,
 "nbformat_minor": 4
}
