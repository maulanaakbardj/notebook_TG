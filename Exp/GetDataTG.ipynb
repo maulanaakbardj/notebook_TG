{
 "cells": [
  {
   "cell_type": "code",
   "execution_count": 1,
   "metadata": {},
   "outputs": [],
   "source": [
    "import pandas as pd"
   ]
  },
  {
   "cell_type": "code",
   "execution_count": 2,
   "metadata": {},
   "outputs": [],
   "source": [
    "import pyTigerGraph as tg\n",
    "conn = tg.TigerGraphConnection(host=\"https://mytg.i.tgcloud.io\", password=\"pass123\")\n",
    "conn.graphname = \"Mask\"\n",
    "conn.apiToken = conn.getToken(conn.createSecret())"
   ]
  },
  {
   "cell_type": "code",
   "execution_count": 9,
   "metadata": {},
   "outputs": [
    {
     "name": "stdout",
     "output_type": "stream",
     "text": [
      "Successfully created queries: [st].\n",
      "Start installing queries, about 1 minute ...\n",
      "st query: curl -X GET 'https://127.0.0.1:9000/query/Mask/st'. Add -H \"Authorization: Bearer TOKEN\" if authentication is enabled.\n",
      "Select 'm1' as compile server, now connecting ...\n",
      "Node 'm1' is prepared as compile server.\n",
      "\n",
      "Query installation finished.\n"
     ]
    }
   ],
   "source": [
    "print(conn.gsql('''\n",
    "CREATE QUERY st(/* Parameters here */) FOR GRAPH Mask { \n",
    "  /* Write query logic here */\n",
    "  Seed = {test.*};\n",
    "  tmp = SELECT s From Seed:s;\n",
    "  PRINT tmp; \n",
    "}\n",
    "INSTALL QUERY st\n",
    "''', options=[]))"
   ]
  },
  {
   "cell_type": "code",
   "execution_count": 35,
   "metadata": {},
   "outputs": [],
   "source": [
    "select = conn.runInstalledQuery(\"st\", {})"
   ]
  },
  {
   "cell_type": "code",
   "execution_count": 11,
   "metadata": {},
   "outputs": [
    {
     "data": {
      "text/plain": [
       "[{'tmp': [{'v_id': '1112',\n",
       "    'v_type': 'test',\n",
       "    'attributes': {'id': 1112,\n",
       "     'name': 'polip',\n",
       "     'email': 'polip.m2@gmail.com',\n",
       "     'mobile': '082164510298',\n",
       "     'credit': '52310259 1269102392'}},\n",
       "   {'v_id': '1111',\n",
       "    'v_type': 'test',\n",
       "    'attributes': {'id': 1111,\n",
       "     'name': 'Maul',\n",
       "     'email': 'maul@gmail.com',\n",
       "     'mobile': '087808235768',\n",
       "     'credit': '1234 4214 1521 5132'}}]}]"
      ]
     },
     "execution_count": 11,
     "metadata": {},
     "output_type": "execute_result"
    }
   ],
   "source": [
    "select"
   ]
  },
  {
   "cell_type": "code",
   "execution_count": 24,
   "metadata": {},
   "outputs": [],
   "source": [
    "import flat_table\n",
    "df_tx_hop = pd.DataFrame(select)\n",
    "df_tx_hop = flat_table.normalize(df_tx_hop)\n",
    "df_tx_hop = df_tx_hop.drop(columns=[\"index\", \"tmp.v_type\", \"tmp.v_id\"])"
   ]
  },
  {
   "cell_type": "code",
   "execution_count": 25,
   "metadata": {},
   "outputs": [
    {
     "data": {
      "text/html": [
       "<div>\n",
       "<style scoped>\n",
       "    .dataframe tbody tr th:only-of-type {\n",
       "        vertical-align: middle;\n",
       "    }\n",
       "\n",
       "    .dataframe tbody tr th {\n",
       "        vertical-align: top;\n",
       "    }\n",
       "\n",
       "    .dataframe thead th {\n",
       "        text-align: right;\n",
       "    }\n",
       "</style>\n",
       "<table border=\"1\" class=\"dataframe\">\n",
       "  <thead>\n",
       "    <tr style=\"text-align: right;\">\n",
       "      <th></th>\n",
       "      <th>tmp.attributes.credit</th>\n",
       "      <th>tmp.attributes.mobile</th>\n",
       "      <th>tmp.attributes.email</th>\n",
       "      <th>tmp.attributes.name</th>\n",
       "      <th>tmp.attributes.id</th>\n",
       "    </tr>\n",
       "  </thead>\n",
       "  <tbody>\n",
       "    <tr>\n",
       "      <th>0</th>\n",
       "      <td>52310259 1269102392</td>\n",
       "      <td>082164510298</td>\n",
       "      <td>polip.m2@gmail.com</td>\n",
       "      <td>polip</td>\n",
       "      <td>1112</td>\n",
       "    </tr>\n",
       "    <tr>\n",
       "      <th>1</th>\n",
       "      <td>1234 4214 1521 5132</td>\n",
       "      <td>087808235768</td>\n",
       "      <td>maul@gmail.com</td>\n",
       "      <td>Maul</td>\n",
       "      <td>1111</td>\n",
       "    </tr>\n",
       "  </tbody>\n",
       "</table>\n",
       "</div>"
      ],
      "text/plain": [
       "  tmp.attributes.credit tmp.attributes.mobile tmp.attributes.email  \\\n",
       "0   52310259 1269102392          082164510298   polip.m2@gmail.com   \n",
       "1   1234 4214 1521 5132          087808235768       maul@gmail.com   \n",
       "\n",
       "  tmp.attributes.name tmp.attributes.id  \n",
       "0               polip              1112  \n",
       "1                Maul              1111  "
      ]
     },
     "execution_count": 25,
     "metadata": {},
     "output_type": "execute_result"
    }
   ],
   "source": [
    "df_tx_hop"
   ]
  },
  {
   "cell_type": "code",
   "execution_count": 26,
   "metadata": {},
   "outputs": [
    {
     "name": "stdout",
     "output_type": "stream",
     "text": [
      "<class 'pandas.core.frame.DataFrame'>\n",
      "RangeIndex: 2 entries, 0 to 1\n",
      "Data columns (total 5 columns):\n",
      " #   Column                 Non-Null Count  Dtype \n",
      "---  ------                 --------------  ----- \n",
      " 0   tmp.attributes.credit  2 non-null      object\n",
      " 1   tmp.attributes.mobile  2 non-null      object\n",
      " 2   tmp.attributes.email   2 non-null      object\n",
      " 3   tmp.attributes.name    2 non-null      object\n",
      " 4   tmp.attributes.id      2 non-null      object\n",
      "dtypes: object(5)\n",
      "memory usage: 208.0+ bytes\n"
     ]
    }
   ],
   "source": [
    "df_tx_hop.info()"
   ]
  },
  {
   "cell_type": "code",
   "execution_count": 28,
   "metadata": {},
   "outputs": [],
   "source": [
    "df_tx_hop['tmp.attributes.id'] = df_tx_hop['tmp.attributes.id'].astype(int)"
   ]
  },
  {
   "cell_type": "code",
   "execution_count": 29,
   "metadata": {},
   "outputs": [
    {
     "name": "stdout",
     "output_type": "stream",
     "text": [
      "<class 'pandas.core.frame.DataFrame'>\n",
      "RangeIndex: 2 entries, 0 to 1\n",
      "Data columns (total 5 columns):\n",
      " #   Column                 Non-Null Count  Dtype \n",
      "---  ------                 --------------  ----- \n",
      " 0   tmp.attributes.credit  2 non-null      object\n",
      " 1   tmp.attributes.mobile  2 non-null      object\n",
      " 2   tmp.attributes.email   2 non-null      object\n",
      " 3   tmp.attributes.name    2 non-null      object\n",
      " 4   tmp.attributes.id      2 non-null      int32 \n",
      "dtypes: int32(1), object(4)\n",
      "memory usage: 200.0+ bytes\n"
     ]
    }
   ],
   "source": [
    "df_tx_hop.info()"
   ]
  },
  {
   "cell_type": "code",
   "execution_count": 30,
   "metadata": {},
   "outputs": [],
   "source": [
    "def mask_email(Var):\n",
    "    mail=Var.split(\"@\")[0]\n",
    "    n=len(mail)\n",
    "    alist=list(mail)\n",
    "    alist[1:int(n)-1]='*'*int(n-2)\n",
    "    output=\"\".join(alist)+\"@\"+Var.split(\"@\")[1]\n",
    "    return output\n",
    "def mask_mobile(Var):\n",
    "    Var=str(Var)\n",
    "    n=len(Var)\n",
    "    alist=list(Var)\n",
    "    alist[2:int(n)-2]='*'*int(n-4)\n",
    "    output=\"\".join(alist)\n",
    "    return output\n",
    "import re\n",
    "def mask_credit(Var):\n",
    "    output = re.sub('\\d', '*', Var[:-4]) + Var[-4:]\n",
    "    return output"
   ]
  },
  {
   "cell_type": "code",
   "execution_count": 33,
   "metadata": {},
   "outputs": [
    {
     "data": {
      "text/html": [
       "<div>\n",
       "<style scoped>\n",
       "    .dataframe tbody tr th:only-of-type {\n",
       "        vertical-align: middle;\n",
       "    }\n",
       "\n",
       "    .dataframe tbody tr th {\n",
       "        vertical-align: top;\n",
       "    }\n",
       "\n",
       "    .dataframe thead th {\n",
       "        text-align: right;\n",
       "    }\n",
       "</style>\n",
       "<table border=\"1\" class=\"dataframe\">\n",
       "  <thead>\n",
       "    <tr style=\"text-align: right;\">\n",
       "      <th></th>\n",
       "      <th>tmp.attributes.credit</th>\n",
       "      <th>tmp.attributes.mobile</th>\n",
       "      <th>tmp.attributes.email</th>\n",
       "      <th>tmp.attributes.name</th>\n",
       "      <th>tmp.attributes.id</th>\n",
       "    </tr>\n",
       "  </thead>\n",
       "  <tbody>\n",
       "    <tr>\n",
       "      <th>0</th>\n",
       "      <td>******** ******2392</td>\n",
       "      <td>08********98</td>\n",
       "      <td>p******2@gmail.com</td>\n",
       "      <td>polip</td>\n",
       "      <td>1112</td>\n",
       "    </tr>\n",
       "    <tr>\n",
       "      <th>1</th>\n",
       "      <td>**** **** **** 5132</td>\n",
       "      <td>08********68</td>\n",
       "      <td>m**l@gmail.com</td>\n",
       "      <td>Maul</td>\n",
       "      <td>1111</td>\n",
       "    </tr>\n",
       "  </tbody>\n",
       "</table>\n",
       "</div>"
      ],
      "text/plain": [
       "  tmp.attributes.credit tmp.attributes.mobile tmp.attributes.email  \\\n",
       "0   ******** ******2392          08********98   p******2@gmail.com   \n",
       "1   **** **** **** 5132          08********68       m**l@gmail.com   \n",
       "\n",
       "  tmp.attributes.name  tmp.attributes.id  \n",
       "0               polip               1112  \n",
       "1                Maul               1111  "
      ]
     },
     "execution_count": 33,
     "metadata": {},
     "output_type": "execute_result"
    }
   ],
   "source": [
    "df_tx_hop['tmp.attributes.email']= df_tx_hop['tmp.attributes.email'].apply(mask_email)\n",
    "df_tx_hop['tmp.attributes.mobile']= df_tx_hop['tmp.attributes.mobile'].apply(mask_mobile)\n",
    "df_tx_hop['tmp.attributes.credit']= df_tx_hop['tmp.attributes.credit'].apply(mask_credit)\n",
    "df_tx_hop"
   ]
  },
  {
   "cell_type": "code",
   "execution_count": 34,
   "metadata": {},
   "outputs": [],
   "source": [
    "v_test = conn.upsertVertexDataFrame(df_tx_hop, \"test\", \"tmp.attributes.id\", attributes={\"id\": \"tmp.attributes.id\", \"name\": \"tmp.attributes.name\", \"email\": \"tmp.attributes.email\", \"mobile\": \"tmp.attributes.mobile\", \"credit\": \"tmp.attributes.credit\"})"
   ]
  },
  {
   "cell_type": "code",
   "execution_count": null,
   "metadata": {},
   "outputs": [],
   "source": [
    "df_tx_hop.to"
   ]
  },
  {
   "cell_type": "code",
   "execution_count": null,
   "metadata": {},
   "outputs": [],
   "source": [
    "import json\n",
    "#Load the posts file with the 'load_people' job\n",
    "people_file='mask_data.csv'\n",
    "results=conn.uploadFile(people_file, fileTag='MyDataSource', jobName='load_people')\n",
    "print(json.dumps(results,indent=2))"
   ]
  }
 ],
 "metadata": {
  "hide_input": false,
  "kernelspec": {
   "display_name": "Python 3",
   "language": "python",
   "name": "python3"
  },
  "language_info": {
   "codemirror_mode": {
    "name": "ipython",
    "version": 3
   },
   "file_extension": ".py",
   "mimetype": "text/x-python",
   "name": "python",
   "nbconvert_exporter": "python",
   "pygments_lexer": "ipython3",
   "version": "3.8.5"
  },
  "toc": {
   "base_numbering": 1,
   "nav_menu": {},
   "number_sections": true,
   "sideBar": true,
   "skip_h1_title": false,
   "title_cell": "Table of Contents",
   "title_sidebar": "Contents",
   "toc_cell": false,
   "toc_position": {},
   "toc_section_display": true,
   "toc_window_display": false
  }
 },
 "nbformat": 4,
 "nbformat_minor": 4
}
